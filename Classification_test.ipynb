{
 "cells": [
  {
   "cell_type": "markdown",
   "metadata": {},
   "source": [
    "# Classification. Linear models and KNN"
   ]
  },
  {
   "cell_type": "code",
   "execution_count": 1,
   "metadata": {},
   "outputs": [],
   "source": [
    "import os\n",
    "import numpy as np\n",
    "import pandas as pd\n",
    "import seaborn as sns\n",
    "import matplotlib.pyplot as plt"
   ]
  },
  {
   "cell_type": "code",
   "execution_count": 2,
   "metadata": {},
   "outputs": [],
   "source": [
    "from sklearn.pipeline import Pipeline, make_pipeline\n",
    "from sklearn.compose import ColumnTransformer\n",
    "from sklearn.model_selection import train_test_split, cross_validate, cross_val_score\n",
    "\n",
    "from sklearn.linear_model import SGDClassifier, LogisticRegression\n",
    "from sklearn.preprocessing import StandardScaler, OneHotEncoder, MinMaxScaler\n",
    "from sklearn.neighbors import KNeighborsClassifier\n",
    "from sklearn.metrics import roc_auc_score\n",
    "\n",
    "from sklearn import metrics "
   ]
  },
  {
   "cell_type": "markdown",
   "metadata": {},
   "source": [
    "## Part 1: Titanic survival prediction"
   ]
  },
  {
   "cell_type": "markdown",
   "metadata": {},
   "source": [
    "### Dataset\n",
    "\n",
    "Read the description here: https://www.kaggle.com/c/titanic/data. Download the dataset and place it in the *data/titanic/* folder in your working directory.\n",
    "You will use train.csv for model training and validation. The test set is used for model testing: once the model is trained, you can predict whether a passenger survived or not for each passenger in the test set, and submit the predictions: https://www.kaggle.com/c/titanic/overview/evaluation.  \n"
   ]
  },
  {
   "cell_type": "code",
   "execution_count": 3,
   "metadata": {},
   "outputs": [],
   "source": [
    "PATH = \"./data/\""
   ]
  },
  {
   "cell_type": "code",
   "execution_count": 4,
   "metadata": {},
   "outputs": [],
   "source": [
    "data = pd.read_csv(os.path.join(PATH, 'titanic', 'train.csv')).set_index('PassengerId')\n",
    "test = pd.read_csv(os.path.join(PATH, 'titanic', 'test.csv'))\n"
   ]
  },
  {
   "cell_type": "code",
   "execution_count": 5,
   "metadata": {},
   "outputs": [
    {
     "data": {
      "text/plain": [
       "(891, 11)"
      ]
     },
     "execution_count": 5,
     "metadata": {},
     "output_type": "execute_result"
    }
   ],
   "source": [
    "data.shape"
   ]
  },
  {
   "cell_type": "markdown",
   "metadata": {},
   "source": [
    "### EDA"
   ]
  },
  {
   "cell_type": "markdown",
   "metadata": {},
   "source": [
    "**(0.5 points)** How many females and males are there in the dataset? What about the survived passengers? Is there any relationship between the gender and the survival?"
   ]
  },
  {
   "cell_type": "code",
   "execution_count": 6,
   "metadata": {},
   "outputs": [
    {
     "data": {
      "text/plain": [
       "Sex     Survived\n",
       "female  1           233\n",
       "        0            81\n",
       "male    0           468\n",
       "        1           109\n",
       "Name: Survived, dtype: int64"
      ]
     },
     "execution_count": 6,
     "metadata": {},
     "output_type": "execute_result"
    }
   ],
   "source": [
    "data.groupby('Sex')['Survived'].value_counts()"
   ]
  },
  {
   "cell_type": "code",
   "execution_count": 7,
   "metadata": {},
   "outputs": [
    {
     "data": {
      "text/html": [
       "<div>\n",
       "<style scoped>\n",
       "    .dataframe tbody tr th:only-of-type {\n",
       "        vertical-align: middle;\n",
       "    }\n",
       "\n",
       "    .dataframe tbody tr th {\n",
       "        vertical-align: top;\n",
       "    }\n",
       "\n",
       "    .dataframe thead th {\n",
       "        text-align: right;\n",
       "    }\n",
       "</style>\n",
       "<table border=\"1\" class=\"dataframe\">\n",
       "  <thead>\n",
       "    <tr style=\"text-align: right;\">\n",
       "      <th></th>\n",
       "      <th>Sex</th>\n",
       "      <th>Survived</th>\n",
       "    </tr>\n",
       "  </thead>\n",
       "  <tbody>\n",
       "    <tr>\n",
       "      <th>0</th>\n",
       "      <td>female</td>\n",
       "      <td>0.742038</td>\n",
       "    </tr>\n",
       "    <tr>\n",
       "      <th>1</th>\n",
       "      <td>male</td>\n",
       "      <td>0.188908</td>\n",
       "    </tr>\n",
       "  </tbody>\n",
       "</table>\n",
       "</div>"
      ],
      "text/plain": [
       "      Sex  Survived\n",
       "0  female  0.742038\n",
       "1    male  0.188908"
      ]
     },
     "execution_count": 7,
     "metadata": {},
     "output_type": "execute_result"
    }
   ],
   "source": [
    "data[['Sex', 'Survived']].groupby(['Sex'], as_index=False).mean().sort_values(by='Survived', ascending=False)"
   ]
  },
  {
   "cell_type": "code",
   "execution_count": 8,
   "metadata": {},
   "outputs": [
    {
     "data": {
      "image/png": "[encoded data removed]",
      "text/plain": [
       "<Figure size 432x288 with 1 Axes>"
      ]
     },
     "metadata": {
      "needs_background": "light"
     },
     "output_type": "display_data"
    }
   ],
   "source": [
    "ax = data.groupby('Sex')['Survived'].value_counts().unstack().plot(kind='bar', stacked=False);\n",
    "ax.spines['top'].set_visible(False)\n",
    "ax.spines['right'].set_visible(False)\n",
    "ax.set_title('Gender Distribution', fontsize=15);"
   ]
  },
  {
   "cell_type": "code",
   "execution_count": 9,
   "metadata": {},
   "outputs": [],
   "source": [
    "# Number of survived passengers younger than 13 years \n",
    "#(I count them as kids as at the beginning of XXc it was their legal status)\n",
    "\n",
    "boys = len(data[(data['Survived'] == 1) & (data['Sex']=='male')&(data['Age'] < 13)])\n",
    "girls = len(data[(data['Survived'] == 1) & (data['Sex']=='female')&(data['Age'] < 13)])"
   ]
  },
  {
   "cell_type": "code",
   "execution_count": 10,
   "metadata": {},
   "outputs": [
    {
     "name": "stdout",
     "output_type": "stream",
     "text": [
      "There's 21 boys and 19 girls among survived underaged passengers.\n"
     ]
    }
   ],
   "source": [
    "print(f'There\\'s {boys} boys and {girls} girls among survived underaged passengers.')"
   ]
  },
  {
   "cell_type": "markdown",
   "metadata": {},
   "source": [
    "#### < your thoughts >"
   ]
  },
  {
   "cell_type": "markdown",
   "metadata": {},
   "source": [
    "#### There's 314 females (233 survived, which is 74% survival rate) and 577 males (only 109 survived it's 18% survival rate) in dataset. Moreover, among 109 males there's 21 underaged boys, thus only every 6th adult male had a chance to survive. \n",
    "\n",
    "Thus we can see a strong relation between gender and survival chance - female had a bigger chance to survive during a shipwreck probaply because of the long-stated ago rule 'Women and children first'. "
   ]
  },
  {
   "cell_type": "markdown",
   "metadata": {},
   "source": [
    "**(0.5 points)** Plot age distribution of the passengers. What is the average and the median age of survived and deceased passengers? Do age distributions differ for survived and deceased passengers? Why?"
   ]
  },
  {
   "cell_type": "code",
   "execution_count": 11,
   "metadata": {},
   "outputs": [
    {
     "data": {
      "image/png": "[encoded data removed]",
      "text/plain": [
       "<Figure size 540x360 with 1 Axes>"
      ]
     },
     "metadata": {
      "needs_background": "light"
     },
     "output_type": "display_data"
    }
   ],
   "source": [
    "fig, ax = plt.subplots(1, 1, figsize=(7.5, 5))\n",
    "names = ['survived', 'not survived']\n",
    "colors = ['limegreen', 'dimgrey']\n",
    "ax1 = data[data['Survived'] == 1]['Age']\n",
    "ax2 = data[data['Survived'] == 0]['Age']\n",
    "plt.hist([ax1, ax2], bins = 30, color = colors, alpha=0.8, label=names, stacked=True)\n",
    "\n",
    "plt.legend()\n",
    "plt.xlabel('Age')\n",
    "plt.ylabel('Count')\n",
    "plt.title('Age distribution of the passengers', fontsize=15)\n",
    "\n",
    "ax.spines['top'].set_visible(False)\n",
    "ax.spines['right'].set_visible(False)"
   ]
  },
  {
   "cell_type": "code",
   "execution_count": 12,
   "metadata": {},
   "outputs": [
    {
     "name": "stdout",
     "output_type": "stream",
     "text": [
      "Average survived was 28 years old.\n",
      "Average deceased was 31 years old.\n",
      "Median survived was 28 years old.\n",
      "Median deceased was 28 years old.\n"
     ]
    }
   ],
   "source": [
    "average_survived = data[data['Survived'] == 1]['Age'].mean()\n",
    "average_died = data[data['Survived'] == 0]['Age'].mean()\n",
    "print(f'Average survived was {round(average_survived)} years old.')\n",
    "print(f'Average deceased was {round(average_died)} years old.')\n",
    "median_survived = data[data['Survived'] == 1]['Age'].median()\n",
    "median_died = data[data['Survived'] == 0]['Age'].median()\n",
    "print(f'Median survived was {round(median_survived)} years old.')\n",
    "print(f'Median deceased was {round(median_died)} years old.')"
   ]
  },
  {
   "cell_type": "code",
   "execution_count": 13,
   "metadata": {},
   "outputs": [
    {
     "data": {
      "image/png": "[encoded data removed]",
      "text/plain": [
       "<Figure size 540x360 with 1 Axes>"
      ]
     },
     "metadata": {
      "needs_background": "light"
     },
     "output_type": "display_data"
    }
   ],
   "source": [
    "# Let's look at sex distribution of survived passengers and their age\n",
    "\n",
    "fig, ax = plt.subplots(1, 1, figsize=(7.5, 5))\n",
    "names = ['male', 'female']\n",
    "colors = ['cornflowerblue', 'pink']\n",
    "ax1 = data[(data['Survived'] == 1) & (data['Sex']=='male')]['Age']\n",
    "ax2 = data[(data['Survived'] == 1) & (data['Sex']=='female')]['Age']\n",
    "plt.hist([ax1, ax2], bins = 30, color = colors, alpha=1, label=names, stacked=True)\n",
    "\n",
    "plt.legend()\n",
    "plt.xlabel('Age')\n",
    "plt.ylabel('Count')\n",
    "plt.title('Survived passengers age distribution', fontsize=15)\n",
    "\n",
    "ax.spines['top'].set_visible(False)\n",
    "ax.spines['right'].set_visible(False)"
   ]
  },
  {
   "cell_type": "code",
   "execution_count": 14,
   "metadata": {},
   "outputs": [
    {
     "data": {
      "image/png": "[encoded data removed]",
      "text/plain": [
       "<Figure size 540x360 with 1 Axes>"
      ]
     },
     "metadata": {
      "needs_background": "light"
     },
     "output_type": "display_data"
    }
   ],
   "source": [
    "# Do the same for their less lucky fellow travelers\n",
    "\n",
    "fig, ax = plt.subplots(1, 1, figsize=(7.5, 5))\n",
    "names = ['female', 'male']\n",
    "colors = ['pink', 'cornflowerblue']\n",
    "ax1 = data[(data['Survived'] == 0) & (data['Sex']=='female')]['Age']\n",
    "ax2 = data[(data['Survived'] == 0) & (data['Sex']=='male')]['Age']\n",
    "plt.hist([ax1, ax2], bins = 30, color = colors, alpha=1, label=names, stacked=True)\n",
    "\n",
    "plt.legend()\n",
    "plt.xlabel('Age')\n",
    "plt.ylabel('Count')\n",
    "plt.title('Not survived passengers age distribution', fontsize=15)\n",
    "\n",
    "ax.spines['top'].set_visible(False)\n",
    "ax.spines['right'].set_visible(False)"
   ]
  },
  {
   "cell_type": "markdown",
   "metadata": {},
   "source": [
    "#### < your thoughts >"
   ]
  },
  {
   "cell_type": "markdown",
   "metadata": {},
   "source": [
    "Age distributions don't really differ for survived and deceased passengers, except for average 28 for survived and 31 for deceased. As you may see at histograms above, the majority of survived were females who are at the same time were slightly younger than male passengers. In contrary, the most of deceased passengers were males, who in general were older, that's why we see this 3 years gap. At the same time we can see, that underage passengers had pretty good chance to survive.\n",
    "\n",
    "Overall age doesn't look like determining feature responsible for increasing surviving chance as it's for sex. "
   ]
  },
  {
   "cell_type": "markdown",
   "metadata": {},
   "source": [
    "**(1 point)** Explore \"passenger class\" and \"embarked\" features. What class was \"the safest\"? Is there any relationship between the embarkation port and the survival? Provide the corresponding visualizations."
   ]
  },
  {
   "cell_type": "code",
   "execution_count": 15,
   "metadata": {},
   "outputs": [
    {
     "data": {
      "text/html": [
       "<div>\n",
       "<style scoped>\n",
       "    .dataframe tbody tr th:only-of-type {\n",
       "        vertical-align: middle;\n",
       "    }\n",
       "\n",
       "    .dataframe tbody tr th {\n",
       "        vertical-align: top;\n",
       "    }\n",
       "\n",
       "    .dataframe thead th {\n",
       "        text-align: right;\n",
       "    }\n",
       "</style>\n",
       "<table border=\"1\" class=\"dataframe\">\n",
       "  <thead>\n",
       "    <tr style=\"text-align: right;\">\n",
       "      <th></th>\n",
       "      <th>Pclass</th>\n",
       "      <th>Survived</th>\n",
       "    </tr>\n",
       "  </thead>\n",
       "  <tbody>\n",
       "    <tr>\n",
       "      <th>0</th>\n",
       "      <td>1</td>\n",
       "      <td>0.629630</td>\n",
       "    </tr>\n",
       "    <tr>\n",
       "      <th>1</th>\n",
       "      <td>2</td>\n",
       "      <td>0.472826</td>\n",
       "    </tr>\n",
       "    <tr>\n",
       "      <th>2</th>\n",
       "      <td>3</td>\n",
       "      <td>0.242363</td>\n",
       "    </tr>\n",
       "  </tbody>\n",
       "</table>\n",
       "</div>"
      ],
      "text/plain": [
       "   Pclass  Survived\n",
       "0       1  0.629630\n",
       "1       2  0.472826\n",
       "2       3  0.242363"
      ]
     },
     "execution_count": 15,
     "metadata": {},
     "output_type": "execute_result"
    }
   ],
   "source": [
    "data[['Pclass', 'Survived']].groupby(['Pclass'], \n",
    "                                     as_index=False).mean().sort_values(by='Survived', ascending=False) "
   ]
  },
  {
   "cell_type": "code",
   "execution_count": 16,
   "metadata": {},
   "outputs": [
    {
     "data": {
      "image/png": "[encoded data removed]",
      "text/plain": [
       "<Figure size 540x360 with 1 Axes>"
      ]
     },
     "metadata": {
      "needs_background": "light"
     },
     "output_type": "display_data"
    }
   ],
   "source": [
    "fig, ax = plt.subplots(1, 1, figsize=(7.5, 5))\n",
    "names = ['survived', 'not survived']\n",
    "colors = ['limegreen', 'dimgrey']\n",
    "ax1 = data[(data['Survived'] == 1)]['Pclass']\n",
    "ax2 = data[(data['Survived'] == 0)]['Pclass']\n",
    "plt.hist([ax1, ax2], bins = 3, color = colors, alpha=0.8, label=names, stacked=False)\n",
    "\n",
    "plt.legend()\n",
    "plt.xlabel('Class')\n",
    "plt.ylabel('Count')\n",
    "plt.title('Dependance of class and safety', fontsize=15)\n",
    "\n",
    "ax.locator_params(integer=True)\n",
    "ax.spines['top'].set_visible(False)\n",
    "ax.spines['right'].set_visible(False)"
   ]
  },
  {
   "cell_type": "code",
   "execution_count": 17,
   "metadata": {},
   "outputs": [
    {
     "data": {
      "text/html": [
       "<div>\n",
       "<style scoped>\n",
       "    .dataframe tbody tr th:only-of-type {\n",
       "        vertical-align: middle;\n",
       "    }\n",
       "\n",
       "    .dataframe tbody tr th {\n",
       "        vertical-align: top;\n",
       "    }\n",
       "\n",
       "    .dataframe thead th {\n",
       "        text-align: right;\n",
       "    }\n",
       "</style>\n",
       "<table border=\"1\" class=\"dataframe\">\n",
       "  <thead>\n",
       "    <tr style=\"text-align: right;\">\n",
       "      <th></th>\n",
       "      <th>Survived</th>\n",
       "      <th>Pclass</th>\n",
       "      <th>Name</th>\n",
       "      <th>Sex</th>\n",
       "      <th>Age</th>\n",
       "      <th>SibSp</th>\n",
       "      <th>Parch</th>\n",
       "      <th>Ticket</th>\n",
       "      <th>Fare</th>\n",
       "      <th>Cabin</th>\n",
       "      <th>Embarked</th>\n",
       "    </tr>\n",
       "    <tr>\n",
       "      <th>PassengerId</th>\n",
       "      <th></th>\n",
       "      <th></th>\n",
       "      <th></th>\n",
       "      <th></th>\n",
       "      <th></th>\n",
       "      <th></th>\n",
       "      <th></th>\n",
       "      <th></th>\n",
       "      <th></th>\n",
       "      <th></th>\n",
       "      <th></th>\n",
       "    </tr>\n",
       "  </thead>\n",
       "  <tbody>\n",
       "    <tr>\n",
       "      <th>1</th>\n",
       "      <td>0</td>\n",
       "      <td>3</td>\n",
       "      <td>Braund, Mr. Owen Harris</td>\n",
       "      <td>male</td>\n",
       "      <td>22.0</td>\n",
       "      <td>1</td>\n",
       "      <td>0</td>\n",
       "      <td>A/5 21171</td>\n",
       "      <td>7.2500</td>\n",
       "      <td>NaN</td>\n",
       "      <td>S</td>\n",
       "    </tr>\n",
       "    <tr>\n",
       "      <th>2</th>\n",
       "      <td>1</td>\n",
       "      <td>1</td>\n",
       "      <td>Cumings, Mrs. John Bradley (Florence Briggs Th...</td>\n",
       "      <td>female</td>\n",
       "      <td>38.0</td>\n",
       "      <td>1</td>\n",
       "      <td>0</td>\n",
       "      <td>PC 17599</td>\n",
       "      <td>71.2833</td>\n",
       "      <td>C85</td>\n",
       "      <td>C</td>\n",
       "    </tr>\n",
       "    <tr>\n",
       "      <th>3</th>\n",
       "      <td>1</td>\n",
       "      <td>3</td>\n",
       "      <td>Heikkinen, Miss. Laina</td>\n",
       "      <td>female</td>\n",
       "      <td>26.0</td>\n",
       "      <td>0</td>\n",
       "      <td>0</td>\n",
       "      <td>STON/O2. 3101282</td>\n",
       "      <td>7.9250</td>\n",
       "      <td>NaN</td>\n",
       "      <td>S</td>\n",
       "    </tr>\n",
       "    <tr>\n",
       "      <th>4</th>\n",
       "      <td>1</td>\n",
       "      <td>1</td>\n",
       "      <td>Futrelle, Mrs. Jacques Heath (Lily May Peel)</td>\n",
       "      <td>female</td>\n",
       "      <td>35.0</td>\n",
       "      <td>1</td>\n",
       "      <td>0</td>\n",
       "      <td>113803</td>\n",
       "      <td>53.1000</td>\n",
       "      <td>C123</td>\n",
       "      <td>S</td>\n",
       "    </tr>\n",
       "    <tr>\n",
       "      <th>5</th>\n",
       "      <td>0</td>\n",
       "      <td>3</td>\n",
       "      <td>Allen, Mr. William Henry</td>\n",
       "      <td>male</td>\n",
       "      <td>35.0</td>\n",
       "      <td>0</td>\n",
       "      <td>0</td>\n",
       "      <td>373450</td>\n",
       "      <td>8.0500</td>\n",
       "      <td>NaN</td>\n",
       "      <td>S</td>\n",
       "    </tr>\n",
       "    <tr>\n",
       "      <th>...</th>\n",
       "      <td>...</td>\n",
       "      <td>...</td>\n",
       "      <td>...</td>\n",
       "      <td>...</td>\n",
       "      <td>...</td>\n",
       "      <td>...</td>\n",
       "      <td>...</td>\n",
       "      <td>...</td>\n",
       "      <td>...</td>\n",
       "      <td>...</td>\n",
       "      <td>...</td>\n",
       "    </tr>\n",
       "    <tr>\n",
       "      <th>887</th>\n",
       "      <td>0</td>\n",
       "      <td>2</td>\n",
       "      <td>Montvila, Rev. Juozas</td>\n",
       "      <td>male</td>\n",
       "      <td>27.0</td>\n",
       "      <td>0</td>\n",
       "      <td>0</td>\n",
       "      <td>211536</td>\n",
       "      <td>13.0000</td>\n",
       "      <td>NaN</td>\n",
       "      <td>S</td>\n",
       "    </tr>\n",
       "    <tr>\n",
       "      <th>888</th>\n",
       "      <td>1</td>\n",
       "      <td>1</td>\n",
       "      <td>Graham, Miss. Margaret Edith</td>\n",
       "      <td>female</td>\n",
       "      <td>19.0</td>\n",
       "      <td>0</td>\n",
       "      <td>0</td>\n",
       "      <td>112053</td>\n",
       "      <td>30.0000</td>\n",
       "      <td>B42</td>\n",
       "      <td>S</td>\n",
       "    </tr>\n",
       "    <tr>\n",
       "      <th>889</th>\n",
       "      <td>0</td>\n",
       "      <td>3</td>\n",
       "      <td>Johnston, Miss. Catherine Helen \"Carrie\"</td>\n",
       "      <td>female</td>\n",
       "      <td>NaN</td>\n",
       "      <td>1</td>\n",
       "      <td>2</td>\n",
       "      <td>W./C. 6607</td>\n",
       "      <td>23.4500</td>\n",
       "      <td>NaN</td>\n",
       "      <td>S</td>\n",
       "    </tr>\n",
       "    <tr>\n",
       "      <th>890</th>\n",
       "      <td>1</td>\n",
       "      <td>1</td>\n",
       "      <td>Behr, Mr. Karl Howell</td>\n",
       "      <td>male</td>\n",
       "      <td>26.0</td>\n",
       "      <td>0</td>\n",
       "      <td>0</td>\n",
       "      <td>111369</td>\n",
       "      <td>30.0000</td>\n",
       "      <td>C148</td>\n",
       "      <td>C</td>\n",
       "    </tr>\n",
       "    <tr>\n",
       "      <th>891</th>\n",
       "      <td>0</td>\n",
       "      <td>3</td>\n",
       "      <td>Dooley, Mr. Patrick</td>\n",
       "      <td>male</td>\n",
       "      <td>32.0</td>\n",
       "      <td>0</td>\n",
       "      <td>0</td>\n",
       "      <td>370376</td>\n",
       "      <td>7.7500</td>\n",
       "      <td>NaN</td>\n",
       "      <td>Q</td>\n",
       "    </tr>\n",
       "  </tbody>\n",
       "</table>\n",
       "<p>891 rows × 11 columns</p>\n",
       "</div>"
      ],
      "text/plain": [
       "             Survived  Pclass  \\\n",
       "PassengerId                     \n",
       "1                   0       3   \n",
       "2                   1       1   \n",
       "3                   1       3   \n",
       "4                   1       1   \n",
       "5                   0       3   \n",
       "...               ...     ...   \n",
       "887                 0       2   \n",
       "888                 1       1   \n",
       "889                 0       3   \n",
       "890                 1       1   \n",
       "891                 0       3   \n",
       "\n",
       "                                                          Name     Sex   Age  \\\n",
       "PassengerId                                                                    \n",
       "1                                      Braund, Mr. Owen Harris    male  22.0   \n",
       "2            Cumings, Mrs. John Bradley (Florence Briggs Th...  female  38.0   \n",
       "3                                       Heikkinen, Miss. Laina  female  26.0   \n",
       "4                 Futrelle, Mrs. Jacques Heath (Lily May Peel)  female  35.0   \n",
       "5                                     Allen, Mr. William Henry    male  35.0   \n",
       "...                                                        ...     ...   ...   \n",
       "887                                      Montvila, Rev. Juozas    male  27.0   \n",
       "888                               Graham, Miss. Margaret Edith  female  19.0   \n",
       "889                   Johnston, Miss. Catherine Helen \"Carrie\"  female   NaN   \n",
       "890                                      Behr, Mr. Karl Howell    male  26.0   \n",
       "891                                        Dooley, Mr. Patrick    male  32.0   \n",
       "\n",
       "             SibSp  Parch            Ticket     Fare Cabin Embarked  \n",
       "PassengerId                                                          \n",
       "1                1      0         A/5 21171   7.2500   NaN        S  \n",
       "2                1      0          PC 17599  71.2833   C85        C  \n",
       "3                0      0  STON/O2. 3101282   7.9250   NaN        S  \n",
       "4                1      0            113803  53.1000  C123        S  \n",
       "5                0      0            373450   8.0500   NaN        S  \n",
       "...            ...    ...               ...      ...   ...      ...  \n",
       "887              0      0            211536  13.0000   NaN        S  \n",
       "888              0      0            112053  30.0000   B42        S  \n",
       "889              1      2        W./C. 6607  23.4500   NaN        S  \n",
       "890              0      0            111369  30.0000  C148        C  \n",
       "891              0      0            370376   7.7500   NaN        Q  \n",
       "\n",
       "[891 rows x 11 columns]"
      ]
     },
     "execution_count": 17,
     "metadata": {},
     "output_type": "execute_result"
    }
   ],
   "source": [
    "data"
   ]
  },
  {
   "cell_type": "markdown",
   "metadata": {},
   "source": [
    "Looks like 1st class was the safest since it has the highest survival rate - 63%. Although 2d class passengers also had reltively good chance to survive (almost 1:1) compare to absolute worst situation for 3rd class passengers, which was the most crowded at the same time.  "
   ]
  },
  {
   "cell_type": "code",
   "execution_count": 18,
   "metadata": {},
   "outputs": [],
   "source": [
    "data['Embarked'].fillna(value='S', inplace=True)"
   ]
  },
  {
   "cell_type": "code",
   "execution_count": 19,
   "metadata": {},
   "outputs": [
    {
     "data": {
      "image/png": "[encoded data removed]",
      "text/plain": [
       "<Figure size 540x360 with 1 Axes>"
      ]
     },
     "metadata": {
      "needs_background": "light"
     },
     "output_type": "display_data"
    }
   ],
   "source": [
    "# Let's see which departure port was the safest\n",
    "\n",
    "fig, ax = plt.subplots(1, 1, figsize=(7.5, 5))\n",
    "names = ['died', 'survived']\n",
    "colors = ['dimgrey', 'lightgreen']\n",
    "ax1 = data[(data['Survived'] == 0)]['Embarked']\n",
    "ax2 = data[(data['Survived'] == 1)]['Embarked']\n",
    "plt.hist([ax1, ax2], bins = 3, color = colors, alpha=1, label=names, stacked=False)\n",
    "\n",
    "plt.legend()\n",
    "plt.xlabel('Port name')\n",
    "plt.ylabel('Count')\n",
    "plt.title('Departure port/survival dependance', fontsize=15)\n",
    "\n",
    "ax.spines['top'].set_visible(False)\n",
    "ax.spines['right'].set_visible(False)"
   ]
  },
  {
   "cell_type": "markdown",
   "metadata": {},
   "source": [
    "At first glance it looks like the port C (Cherbourg) is the safest one since more than a half of departured from here had survived. Let's see if there is any pattern between passenger class and departure port (maybe the luckiest 1st class passengers mostly departured from the port C?)"
   ]
  },
  {
   "cell_type": "code",
   "execution_count": 20,
   "metadata": {},
   "outputs": [
    {
     "data": {
      "image/png": "[encoded data removed]",
      "text/plain": [
       "<Figure size 540x360 with 1 Axes>"
      ]
     },
     "metadata": {
      "needs_background": "light"
     },
     "output_type": "display_data"
    }
   ],
   "source": [
    "# Class spread over ports\n",
    "\n",
    "fig, ax = plt.subplots(1, 1, figsize=(7.5, 5))\n",
    "names = ['1 class', '2 class', '3 class']\n",
    "colors = ['gold', 'darkgray', 'sienna']\n",
    "ax1 = data[(data['Pclass'] == 1)]['Embarked']\n",
    "ax2 = data[(data['Pclass'] == 2)]['Embarked']\n",
    "ax3 = data[(data['Pclass'] == 3)]['Embarked']\n",
    "plt.hist([ax1, ax2, ax3], bins = 3, color = colors, alpha=.7, label=names, stacked=False)\n",
    "\n",
    "plt.legend()\n",
    "plt.xlabel('Port name')\n",
    "plt.ylabel('Count')\n",
    "plt.title('Departure port/class dependance', fontsize=15)\n",
    "\n",
    "ax.spines['top'].set_visible(False)\n",
    "ax.spines['right'].set_visible(False)"
   ]
  },
  {
   "cell_type": "markdown",
   "metadata": {},
   "source": [
    "As we can see from the above, port C really was mostly for the 1st class passengers, at the same time S (Southampton) was the most crowded departure port. "
   ]
  },
  {
   "cell_type": "code",
   "execution_count": 21,
   "metadata": {},
   "outputs": [
    {
     "data": {
      "image/png": "[encoded data removed]",
      "text/plain": [
       "<Figure size 540x360 with 1 Axes>"
      ]
     },
     "metadata": {
      "needs_background": "light"
     },
     "output_type": "display_data"
    }
   ],
   "source": [
    "# Examine all survived passengers\n",
    "\n",
    "fig, ax = plt.subplots(1, 1, figsize=(7.5, 5))\n",
    "names = ['1 class', '2 class', '3 class']\n",
    "colors = ['gold', 'darkgray', 'sienna']\n",
    "ax1 = data[(data['Pclass'] == 1) & (data['Survived']==1)]['Embarked']\n",
    "ax2 = data[(data['Pclass'] == 2) & (data['Survived']==1)]['Embarked']\n",
    "ax3 = data[(data['Pclass'] == 3) & (data['Survived']==1)]['Embarked']\n",
    "plt.hist([ax1, ax2, ax3], bins = 3, color = colors, alpha=.7, label=names, stacked=False)\n",
    "\n",
    "plt.legend()\n",
    "plt.xlabel('Port name')\n",
    "plt.ylabel('Count')\n",
    "plt.title('Survived passengers departure port/class dependance', fontsize=15)\n",
    "\n",
    "ax.spines['top'].set_visible(False)\n",
    "ax.spines['right'].set_visible(False)"
   ]
  },
  {
   "cell_type": "markdown",
   "metadata": {},
   "source": [
    "As we can see, survived 1st class passengers spread almost evenly between ports C and S and make the majority there. Interesting moment -  at S we can see even some kind of equality in absolute numbers between different classes passengers, but percentages are just horrible - survived only 20% of 3rd class passengers departured from port S, meanvile it's 58% for 3rd class and 46% for 2nd class."
   ]
  },
  {
   "cell_type": "code",
   "execution_count": 22,
   "metadata": {},
   "outputs": [
    {
     "data": {
      "image/png": "[encoded data removed]",
      "text/plain": [
       "<Figure size 540x360 with 1 Axes>"
      ]
     },
     "metadata": {
      "needs_background": "light"
     },
     "output_type": "display_data"
    }
   ],
   "source": [
    "# Passengers died\n",
    "\n",
    "fig, ax = plt.subplots(1, 1, figsize=(7.5, 5))\n",
    "names = ['1 class', '2 class', '3 class']\n",
    "colors = ['gold', 'darkgray', 'sienna']\n",
    "ax1 = data[(data['Pclass'] == 1) & (data['Survived']==0)]['Embarked']\n",
    "ax2 = data[(data['Pclass'] == 2) & (data['Survived']==0)]['Embarked']\n",
    "ax3 = data[(data['Pclass'] == 3) & (data['Survived']==0)]['Embarked']\n",
    "plt.hist([ax1, ax2, ax3], bins = 3, color = colors, alpha=.7, label=names, stacked=False)\n",
    "\n",
    "plt.legend()\n",
    "plt.xlabel('Port name')\n",
    "plt.ylabel('Count')\n",
    "plt.title('Died passengers departure port/class dependance', fontsize=15)\n",
    "\n",
    "ax.spines['top'].set_visible(False)\n",
    "ax.spines['right'].set_visible(False)"
   ]
  },
  {
   "cell_type": "markdown",
   "metadata": {},
   "source": [
    "< your thoughts >"
   ]
  },
  {
   "cell_type": "code",
   "execution_count": 23,
   "metadata": {},
   "outputs": [
    {
     "data": {
      "text/html": [
       "<div>\n",
       "<style scoped>\n",
       "    .dataframe tbody tr th:only-of-type {\n",
       "        vertical-align: middle;\n",
       "    }\n",
       "\n",
       "    .dataframe tbody tr th {\n",
       "        vertical-align: top;\n",
       "    }\n",
       "\n",
       "    .dataframe thead th {\n",
       "        text-align: right;\n",
       "    }\n",
       "</style>\n",
       "<table border=\"1\" class=\"dataframe\">\n",
       "  <thead>\n",
       "    <tr style=\"text-align: right;\">\n",
       "      <th></th>\n",
       "      <th>Embarked</th>\n",
       "      <th>Survived</th>\n",
       "    </tr>\n",
       "  </thead>\n",
       "  <tbody>\n",
       "    <tr>\n",
       "      <th>0</th>\n",
       "      <td>C</td>\n",
       "      <td>0.553571</td>\n",
       "    </tr>\n",
       "    <tr>\n",
       "      <th>1</th>\n",
       "      <td>Q</td>\n",
       "      <td>0.389610</td>\n",
       "    </tr>\n",
       "    <tr>\n",
       "      <th>2</th>\n",
       "      <td>S</td>\n",
       "      <td>0.339009</td>\n",
       "    </tr>\n",
       "  </tbody>\n",
       "</table>\n",
       "</div>"
      ],
      "text/plain": [
       "  Embarked  Survived\n",
       "0        C  0.553571\n",
       "1        Q  0.389610\n",
       "2        S  0.339009"
      ]
     },
     "execution_count": 23,
     "metadata": {},
     "output_type": "execute_result"
    }
   ],
   "source": [
    "data[['Embarked','Survived']].groupby(['Embarked'], \n",
    "                                      as_index=False).mean().sort_values(by='Survived', ascending=False)"
   ]
  },
  {
   "cell_type": "markdown",
   "metadata": {},
   "source": [
    "Pors C in general had higher percentage of survived passengers, but as we can see from plot from the above, it's not because it somehow was safer, but it was mostrly for 1st and 2nd class passengers. In general we can still see that the crucial survival factor is passenger class - more likely to get into a rescue boat if you are the 1st class traveler. In all cases we can see that 1st classes have priopity right to be saved, but if I still need to choose 'the safest' port I'd pick C according to the numbers."
   ]
  },
  {
   "cell_type": "markdown",
   "metadata": {},
   "source": [
    "### Modelling"
   ]
  },
  {
   "cell_type": "markdown",
   "metadata": {},
   "source": [
    "**(0.5 points)** Find the percentage of missing values for each feature. "
   ]
  },
  {
   "cell_type": "code",
   "execution_count": 24,
   "metadata": {},
   "outputs": [
    {
     "data": {
      "text/plain": [
       "Survived    0.000000\n",
       "Pclass      0.000000\n",
       "Name        0.000000\n",
       "Sex         0.000000\n",
       "Age         0.198653\n",
       "SibSp       0.000000\n",
       "Parch       0.000000\n",
       "Ticket      0.000000\n",
       "Fare        0.000000\n",
       "Cabin       0.771044\n",
       "Embarked    0.000000\n",
       "dtype: float64"
      ]
     },
     "execution_count": 24,
     "metadata": {},
     "output_type": "execute_result"
    }
   ],
   "source": [
    "data.isnull().mean()"
   ]
  },
  {
   "cell_type": "code",
   "execution_count": 25,
   "metadata": {},
   "outputs": [
    {
     "data": {
      "text/plain": [
       "PassengerId    0.000000\n",
       "Pclass         0.000000\n",
       "Name           0.000000\n",
       "Sex            0.000000\n",
       "Age            0.205742\n",
       "SibSp          0.000000\n",
       "Parch          0.000000\n",
       "Ticket         0.000000\n",
       "Fare           0.002392\n",
       "Cabin          0.782297\n",
       "Embarked       0.000000\n",
       "dtype: float64"
      ]
     },
     "execution_count": 25,
     "metadata": {},
     "output_type": "execute_result"
    }
   ],
   "source": [
    "test.isnull().mean()"
   ]
  },
  {
   "cell_type": "markdown",
   "metadata": {},
   "source": [
    "Think about the ways to handle these missing values for modelling and write your answer below. Which methods would you suggest? What are their advantages and disadvantages?\n",
    "\n",
    "####  < your thoughts >"
   ]
  },
  {
   "cell_type": "markdown",
   "metadata": {},
   "source": [
    "Age - less than 20% is missed in both train and test, we could just drop them, but since our dataset is quite small, I won't do so. 2st option is to fill missing data with average value, wich is not prefferable, bacause it can distort model quality. I choose 3rd option - fill missing values with extracted from Name honorific title and find average for it.\n",
    "Embarked - it had only 2 missing values, so I simply filled them with the most popular port - S.\n",
    "Fare - small amount, we can fill it with average for passenger class.\n",
    "Cabin - 78& and 77% missed values, the first thought is to drop this column, but again, dataset is small so I prefer to keep as many features as possible, so I probably try to exctract the floor name from it."
   ]
  },
  {
   "cell_type": "markdown",
   "metadata": {},
   "source": [
    "**(1.5 points)** Prepare the features and train two models (KNN and Logistic Regression) to predict the survival. Compare the results. Use accuracy as a metric. Don't forget about cross-validation!"
   ]
  },
  {
   "cell_type": "markdown",
   "metadata": {},
   "source": [
    "#### Preprocessing data\n",
    "filling missing data\n",
    "#### Age"
   ]
  },
  {
   "cell_type": "code",
   "execution_count": 26,
   "metadata": {},
   "outputs": [
    {
     "name": "stdout",
     "output_type": "stream",
     "text": [
      "For Master. average age is 5.\n",
      "For Miss. average age is 22.\n",
      "For Mrs. average age is 36.\n",
      "For Mr. average age is 32.\n",
      "For Noble average age is 37.\n"
     ]
    },
    {
     "data": {
      "text/plain": [
       "0"
      ]
     },
     "execution_count": 26,
     "metadata": {},
     "output_type": "execute_result"
    }
   ],
   "source": [
    "def get_honorific(string):\n",
    "    \n",
    "    #Extract honorific title from name\n",
    "    string = string.split(' ')\n",
    "    if string[1] == 'Miss.':\n",
    "        return 'Miss.'\n",
    "    elif string[1] == 'Mr.':\n",
    "        return 'Mr.'\n",
    "    elif string[1] == 'Master.':\n",
    "        return 'Master.'\n",
    "    elif string[1] == 'Mrs.':\n",
    "        return 'Mrs.'\n",
    "    else:\n",
    "        return 'Noble'\n",
    "\n",
    "# Create Honorific column\n",
    "data['Honorific'] = data['Name'].apply(get_honorific)\n",
    "data['Honorific'].value_counts()\n",
    "\n",
    "# Average age for each group\n",
    "honorific = [\"Master.\", \"Miss.\", \"Mrs.\", \"Mr.\", \"Noble\"]\n",
    "ages = []\n",
    "for i in range(len(honorific)):\n",
    "    ages.append(round(data[data[\"Honorific\"] == honorific[i]][\"Age\"].mean()))\n",
    "    print(f'For {honorific[i]} average age is {round(data[data[\"Honorific\"] == honorific[i]][\"Age\"].mean())}.')\n",
    " \n",
    "def fill_na(string):\n",
    "    if 0 < string <100:\n",
    "        return string\n",
    "    else:\n",
    "        return 0\n",
    "    \n",
    "data['Age'] = data['Age'].apply(fill_na)\n",
    "\n",
    "for i in range(len(ages)):\n",
    "    data.loc[(data['Age']==0) & (data['Honorific']==honorific[i]),'Age'] = ages[i]\n",
    "    \n",
    "data['Age'].isnull().sum()"
   ]
  },
  {
   "cell_type": "markdown",
   "metadata": {},
   "source": [
    "#### Cabin"
   ]
  },
  {
   "cell_type": "code",
   "execution_count": 27,
   "metadata": {},
   "outputs": [
    {
     "data": {
      "text/plain": [
       "0    705\n",
       "1    186\n",
       "Name: Cabin_class, dtype: int64"
      ]
     },
     "execution_count": 27,
     "metadata": {},
     "output_type": "execute_result"
    }
   ],
   "source": [
    "def get_cabin(string):\n",
    "    \n",
    "    # Extract the deck letter, combine them (A - E for 1st 2nd Class,  F, G - 3rd Class) \n",
    "    string = str(string).upper()\n",
    "    if string == 'NAN':\n",
    "        return 0\n",
    "    if string[0] == 'A' or string[0] == 'B' or string[0]== 'C':\n",
    "        return 1\n",
    "    elif string[0] == 'D' or string[0] == 'E':\n",
    "        return 1\n",
    "    elif string[0] == 'F' or string[0] == 'G':\n",
    "        return 0\n",
    "    else:\n",
    "        return 0\n",
    "\n",
    "data['Cabin'].fillna(value=0, inplace=True)\n",
    "test['Cabin'].fillna(value=0, inplace=True)    \n",
    "data['Cabin_class'] = data['Cabin'].apply(get_cabin)\n",
    "data['Cabin_class'].value_counts()\n"
   ]
  },
  {
   "cell_type": "markdown",
   "metadata": {},
   "source": [
    "#### Missing data for test"
   ]
  },
  {
   "cell_type": "code",
   "execution_count": 28,
   "metadata": {},
   "outputs": [
    {
     "name": "stdout",
     "output_type": "stream",
     "text": [
      "For Master. average age is 7.\n",
      "For Miss. average age is 22.\n",
      "For Mrs. average age is 39.\n",
      "For Mr. average age is 32.\n",
      "For Noble average age is 35.\n"
     ]
    }
   ],
   "source": [
    "# Extract 'Honorific'\n",
    "test['Honorific'] = test['Name'].apply(get_honorific)\n",
    "\n",
    "# Transform 'Cabin'\n",
    "test['Cabin_class'] = test['Cabin'].apply(get_cabin)\n",
    "\n",
    "# Average age for each group\n",
    "honorific = [\"Master.\", \"Miss.\", \"Mrs.\", \"Mr.\", \"Noble\"]\n",
    "ages = []\n",
    "for i in range(len(honorific)):\n",
    "    ages.append(round(test[test[\"Honorific\"] == honorific[i]][\"Age\"].mean()))\n",
    "    print(f'For {honorific[i]} average age is {round(test[test[\"Honorific\"] == honorific[i]][\"Age\"].mean())}.')\n",
    "test['Age'] = test['Age'].apply(fill_na)\n",
    "\n",
    "# Fill missing 'Age' values according to 'Honorific' status\n",
    "for i in range(len(ages)):\n",
    "    test.loc[(test['Age']==0) & (test['Honorific']==honorific[i]),'Age'] = ages[i]\n",
    "\n",
    "# Fill missing 'Fare'\n",
    "test['Fare'].fillna(value=96, inplace=True)\n",
    "test.loc[(test['Fare']==0) & (test['Pclass']==1),'Fare'] = 96"
   ]
  },
  {
   "cell_type": "markdown",
   "metadata": {},
   "source": [
    "### Modeling #1"
   ]
  },
  {
   "cell_type": "code",
   "execution_count": 29,
   "metadata": {},
   "outputs": [
    {
     "data": {
      "text/plain": [
       "Index(['Survived', 'Pclass', 'Name', 'Sex', 'Age', 'SibSp', 'Parch', 'Ticket',\n",
       "       'Fare', 'Cabin', 'Embarked', 'Honorific', 'Cabin_class'],\n",
       "      dtype='object')"
      ]
     },
     "execution_count": 29,
     "metadata": {},
     "output_type": "execute_result"
    }
   ],
   "source": [
    "data.columns"
   ]
  },
  {
   "cell_type": "code",
   "execution_count": 30,
   "metadata": {},
   "outputs": [],
   "source": [
    "features = ['Pclass',  'Age', 'SibSp', 'Parch', \n",
    "            'Fare', 'Cabin_class']"
   ]
  },
  {
   "cell_type": "code",
   "execution_count": 31,
   "metadata": {},
   "outputs": [],
   "source": [
    "X_train = data[features]\n",
    "y_train = data.Survived\n",
    "X_test = test[features]"
   ]
  },
  {
   "cell_type": "code",
   "execution_count": 32,
   "metadata": {},
   "outputs": [],
   "source": [
    "def models(X_train, y_train):\n",
    "    \n",
    "    #Logistic Regression\n",
    "    log = LogisticRegression(solver='liblinear', penalty='l2', random_state=42)\n",
    "    log.fit(X_train, y_train)\n",
    "    print(log)\n",
    "    print(metrics.classification_report(y_train, log.predict(X_train)))\n",
    "    print(metrics.confusion_matrix(y_train, log.predict(X_train)))\n",
    "    print('Result after CV {:f}'.format(\n",
    "        cross_val_score(log, X_train, y_train, scoring='accuracy', cv=10).mean()))\n",
    "    \n",
    "    print('')\n",
    "    # KNN\n",
    "          \n",
    "    knn = KNeighborsClassifier(n_neighbors=5, metric='minkowski', p=2)\n",
    "    knn.fit(X_train, y_train)\n",
    "    print(knn)\n",
    "    print(metrics.classification_report(y_train, knn.predict(X_train)))\n",
    "    print(metrics.confusion_matrix(y_train, knn.predict(X_train)))\n",
    "    print('Result after CV {:f}'.format(\n",
    "        cross_val_score(knn, X_train, y_train, scoring='accuracy', cv=10).mean()))\n",
    "          \n",
    "    return log, knn"
   ]
  },
  {
   "cell_type": "code",
   "execution_count": 33,
   "metadata": {},
   "outputs": [
    {
     "name": "stdout",
     "output_type": "stream",
     "text": [
      "LogisticRegression(random_state=42, solver='liblinear')\n",
      "              precision    recall  f1-score   support\n",
      "\n",
      "           0       0.73      0.89      0.80       549\n",
      "           1       0.71      0.46      0.56       342\n",
      "\n",
      "    accuracy                           0.72       891\n",
      "   macro avg       0.72      0.67      0.68       891\n",
      "weighted avg       0.72      0.72      0.71       891\n",
      "\n",
      "[[486  63]\n",
      " [184 158]]\n",
      "Result after CV 0.710512\n",
      "\n",
      "KNeighborsClassifier()\n",
      "              precision    recall  f1-score   support\n",
      "\n",
      "           0       0.82      0.86      0.84       549\n",
      "           1       0.75      0.70      0.72       342\n",
      "\n",
      "    accuracy                           0.80       891\n",
      "   macro avg       0.79      0.78      0.78       891\n",
      "weighted avg       0.79      0.80      0.79       891\n",
      "\n",
      "[[471  78]\n",
      " [104 238]]\n",
      "Result after CV 0.692522\n"
     ]
    }
   ],
   "source": [
    "model = models(X_train, y_train)"
   ]
  },
  {
   "cell_type": "markdown",
   "metadata": {},
   "source": [
    "We took a few features for modeling and got 0.71 accuracy for default LogReg model and 0.69 accuracy for default KNN. It can be better."
   ]
  },
  {
   "cell_type": "markdown",
   "metadata": {},
   "source": [
    "**(0.5 + X points)** Try more feature engineering and hyperparameter tuning to improve the results. You may use either KNN or Logistic Regression (or both)."
   ]
  },
  {
   "cell_type": "markdown",
   "metadata": {},
   "source": [
    "### Modeling #2\n",
    "further  feature engineering"
   ]
  },
  {
   "cell_type": "markdown",
   "metadata": {},
   "source": [
    "#### Create cross features\n",
    "I want to join Age and Class features, to make some synthetic features.\n"
   ]
  },
  {
   "cell_type": "code",
   "execution_count": 34,
   "metadata": {},
   "outputs": [],
   "source": [
    "data['F_1'] = 0         \n",
    "data['F_2'] = 0\n",
    "data['F_3'] = 0\n",
    "data['M_1'] = 0\n",
    "data['M_2'] = 0\n",
    "data['M_3'] = 0\n",
    "\n",
    "test['F_1'] = 0\n",
    "test['F_2'] = 0\n",
    "test['F_3'] = 0\n",
    "test['M_1'] = 0\n",
    "test['M_2'] = 0\n",
    "test['M_3'] = 0"
   ]
  },
  {
   "cell_type": "code",
   "execution_count": 35,
   "metadata": {},
   "outputs": [],
   "source": [
    "data.loc[(data['Sex']=='female') & (data['Pclass']==1),'F_1'] = 1\n",
    "data.loc[(data['Sex']=='female') & (data['Pclass']==2),'F_2'] = 1\n",
    "data.loc[(data['Sex']=='female') & (data['Pclass']==3),'F_3'] = 1\n",
    "data.loc[(data['Sex']=='male') & (data['Pclass']==1),'M_1'] = 1\n",
    "data.loc[(data['Sex']=='male') & (data['Pclass']==2),'M_2'] = 1\n",
    "data.loc[(data['Sex']=='male') & (data['Pclass']==3),'M_3'] = 1\n",
    "test.loc[(test['Sex']=='female') & (test['Pclass']==1),'F_1'] = 1\n",
    "test.loc[(test['Sex']=='female') & (test['Pclass']==2),'F_2'] = 1\n",
    "test.loc[(test['Sex']=='female') & (test['Pclass']==3),'F_3'] = 1\n",
    "test.loc[(test['Sex']=='male') & (test['Pclass']==1),'M_1'] = 1\n",
    "test.loc[(test['Sex']=='male') & (test['Pclass']==2),'M_2'] = 1\n",
    "test.loc[(test['Sex']=='male') & (test['Pclass']==3),'M_3'] = 1"
   ]
  },
  {
   "cell_type": "markdown",
   "metadata": {},
   "source": [
    "#### Family\n",
    "Show if passenger traveled alone or with family"
   ]
  },
  {
   "cell_type": "code",
   "execution_count": 36,
   "metadata": {},
   "outputs": [],
   "source": [
    "data['Trav_family'] = 0\n",
    "data['Trav_alone'] = 0\n",
    "test['Trav_family'] = 0\n",
    "test['Trav_alone'] = 0\n",
    "data.loc[(data['SibSp']!=0) | (data['Parch']!=0),'Trav_family'] = 1\n",
    "data.loc[(data['SibSp']==0) & (data['Parch']==0),'Trav_alone'] = 1\n",
    "test.loc[(test['SibSp']!=0) | (test['Parch']!=0),'Trav_family'] = 1\n",
    "test.loc[(test['SibSp']==0) & (test['Parch']==0),'Trav_alone'] = 1\n"
   ]
  },
  {
   "cell_type": "markdown",
   "metadata": {},
   "source": [
    "#### Fare\n",
    "Divide fare to cheap - expensive"
   ]
  },
  {
   "cell_type": "code",
   "execution_count": 37,
   "metadata": {},
   "outputs": [
    {
     "data": {
      "text/plain": [
       "count    342.000000\n",
       "mean      48.395408\n",
       "std       66.596998\n",
       "min        0.000000\n",
       "25%       12.475000\n",
       "50%       26.000000\n",
       "75%       57.000000\n",
       "max      512.329200\n",
       "Name: Fare, dtype: float64"
      ]
     },
     "execution_count": 37,
     "metadata": {},
     "output_type": "execute_result"
    }
   ],
   "source": [
    "data.loc[(data['Survived']==1),'Fare'].describe()"
   ]
  },
  {
   "cell_type": "code",
   "execution_count": 38,
   "metadata": {},
   "outputs": [],
   "source": [
    "data['F_cheap'] =0\n",
    "data['F_mid'] = 0\n",
    "data['F_expens'] = 0\n",
    "test['F_cheap'] = 0\n",
    "test['F_mid'] = 0\n",
    "test['F_expens'] = 0\n",
    "data.loc[(data['Fare'] <= 13),'F_cheap'] = 1\n",
    "data.loc[(data['Fare'] > 13) & (data['Fare'] <= 70),'F_mid'] = 1\n",
    "data.loc[(data['Fare'] > 70),'F_expens'] = 1\n",
    "test.loc[(test['Fare'] <= 13),'F_cheap'] = 1\n",
    "test.loc[(test['Fare'] > 13) & (test['Fare'] <= 70),'F_mid'] = 1\n",
    "test.loc[(test['Fare'] > 70),'F_expens'] = 1"
   ]
  },
  {
   "cell_type": "markdown",
   "metadata": {},
   "source": [
    "#### Age\n",
    "Group passengers according Age"
   ]
  },
  {
   "cell_type": "code",
   "execution_count": 39,
   "metadata": {},
   "outputs": [],
   "source": [
    "data['Kid'] = 0\n",
    "data.loc[(data['Age'] <= 13),'Kid'] = 1\n",
    "test['Kid'] = 0\n",
    "test.loc[(test['Age'] <= 13),'Kid'] = 1"
   ]
  },
  {
   "cell_type": "markdown",
   "metadata": {},
   "source": [
    "#### Embarked"
   ]
  },
  {
   "cell_type": "code",
   "execution_count": 40,
   "metadata": {},
   "outputs": [],
   "source": [
    "data = pd.get_dummies(data, columns=[\"Embarked\"])\n",
    "test = pd.get_dummies(test, columns=[\"Embarked\"])"
   ]
  },
  {
   "cell_type": "markdown",
   "metadata": {},
   "source": [
    "### 2nd Model\n"
   ]
  },
  {
   "cell_type": "code",
   "execution_count": 41,
   "metadata": {},
   "outputs": [],
   "source": [
    "features = ['Age', 'SibSp', 'Parch',\n",
    "            'Fare', 'Honorific', 'Cabin_class', 'F_1', 'F_2',\n",
    "            'F_3', 'M_1', 'M_2', 'M_3', 'Embarked_C', 'Embarked_Q', 'Embarked_S',\n",
    "            'Trav_family', 'Trav_alone', 'F_cheap', 'F_mid', 'F_expens', 'Kid']"
   ]
  },
  {
   "cell_type": "code",
   "execution_count": 42,
   "metadata": {},
   "outputs": [],
   "source": [
    "def models_2(X_train, y_train):\n",
    "    \n",
    "    #Logistic Regression\n",
    "    log = LogisticRegression(solver='liblinear', penalty='l2', random_state=42)\n",
    "    log.fit(X_train, y_train)\n",
    "    print(log)\n",
    "    print(metrics.classification_report(y_train, log.predict(X_train)))\n",
    "    print(metrics.confusion_matrix(y_train, log.predict(X_train)))\n",
    "    print('Result after CV {:f}'.format(\n",
    "        cross_val_score(log, X_train, y_train, scoring='accuracy', cv=10).mean()))\n",
    "    \n",
    "    print('')\n",
    "    # KNN\n",
    "          \n",
    "    knn = KNeighborsClassifier(n_neighbors=28, metric='minkowski', p=2)\n",
    "    knn.fit(X_train, y_train)\n",
    "    print(knn)\n",
    "    print(metrics.classification_report(y_train, knn.predict(X_train)))\n",
    "    print(metrics.confusion_matrix(y_train, knn.predict(X_train)))\n",
    "    print('Result after CV {:f}'.format(\n",
    "        cross_val_score(knn, X_train, y_train, scoring='accuracy', cv=20).mean()))\n",
    "          \n",
    "    return log, knn"
   ]
  },
  {
   "cell_type": "code",
   "execution_count": 43,
   "metadata": {},
   "outputs": [],
   "source": [
    "X_train = pd.get_dummies(data[features])\n",
    "y_train = data.Survived\n",
    "X_test = pd.get_dummies(test[features])"
   ]
  },
  {
   "cell_type": "code",
   "execution_count": 44,
   "metadata": {},
   "outputs": [],
   "source": [
    "#sc = StandardScaler()\n",
    "#X_train = sc.fit_transform(X_train)\n",
    "#X_test = sc.fit_transform(X_test)"
   ]
  },
  {
   "cell_type": "code",
   "execution_count": 45,
   "metadata": {},
   "outputs": [
    {
     "name": "stdout",
     "output_type": "stream",
     "text": [
      "LogisticRegression(random_state=42, solver='liblinear')\n",
      "              precision    recall  f1-score   support\n",
      "\n",
      "           0       0.85      0.91      0.88       549\n",
      "           1       0.84      0.75      0.79       342\n",
      "\n",
      "    accuracy                           0.85       891\n",
      "   macro avg       0.85      0.83      0.83       891\n",
      "weighted avg       0.85      0.85      0.85       891\n",
      "\n",
      "[[500  49]\n",
      " [ 87 255]]\n",
      "Result after CV 0.836167\n",
      "\n",
      "KNeighborsClassifier(n_neighbors=28)\n",
      "              precision    recall  f1-score   support\n",
      "\n",
      "           0       0.74      0.87      0.80       549\n",
      "           1       0.71      0.50      0.59       342\n",
      "\n",
      "    accuracy                           0.73       891\n",
      "   macro avg       0.72      0.69      0.69       891\n",
      "weighted avg       0.73      0.73      0.72       891\n",
      "\n",
      "[[480  69]\n",
      " [171 171]]\n",
      "Result after CV 0.717525\n"
     ]
    }
   ],
   "source": [
    "model = models_2(X_train, y_train)"
   ]
  },
  {
   "cell_type": "code",
   "execution_count": 46,
   "metadata": {},
   "outputs": [],
   "source": [
    "submit = model[0].predict(X_test)"
   ]
  },
  {
   "cell_type": "markdown",
   "metadata": {},
   "source": [
    "### Submission\n"
   ]
  },
  {
   "cell_type": "code",
   "execution_count": 47,
   "metadata": {},
   "outputs": [
    {
     "data": {
      "text/html": [
       "<div>\n",
       "<style scoped>\n",
       "    .dataframe tbody tr th:only-of-type {\n",
       "        vertical-align: middle;\n",
       "    }\n",
       "\n",
       "    .dataframe tbody tr th {\n",
       "        vertical-align: top;\n",
       "    }\n",
       "\n",
       "    .dataframe thead th {\n",
       "        text-align: right;\n",
       "    }\n",
       "</style>\n",
       "<table border=\"1\" class=\"dataframe\">\n",
       "  <thead>\n",
       "    <tr style=\"text-align: right;\">\n",
       "      <th></th>\n",
       "      <th>PassengerId</th>\n",
       "      <th>Survived</th>\n",
       "    </tr>\n",
       "  </thead>\n",
       "  <tbody>\n",
       "    <tr>\n",
       "      <th>0</th>\n",
       "      <td>892</td>\n",
       "      <td>0</td>\n",
       "    </tr>\n",
       "    <tr>\n",
       "      <th>1</th>\n",
       "      <td>893</td>\n",
       "      <td>0</td>\n",
       "    </tr>\n",
       "    <tr>\n",
       "      <th>2</th>\n",
       "      <td>894</td>\n",
       "      <td>0</td>\n",
       "    </tr>\n",
       "    <tr>\n",
       "      <th>3</th>\n",
       "      <td>895</td>\n",
       "      <td>0</td>\n",
       "    </tr>\n",
       "    <tr>\n",
       "      <th>4</th>\n",
       "      <td>896</td>\n",
       "      <td>0</td>\n",
       "    </tr>\n",
       "  </tbody>\n",
       "</table>\n",
       "</div>"
      ],
      "text/plain": [
       "   PassengerId  Survived\n",
       "0          892         0\n",
       "1          893         0\n",
       "2          894         0\n",
       "3          895         0\n",
       "4          896         0"
      ]
     },
     "execution_count": 47,
     "metadata": {},
     "output_type": "execute_result"
    }
   ],
   "source": [
    "submission = pd.DataFrame()\n",
    "submission['PassengerId'] = test['PassengerId']\n",
    "submission['Survived'] = submit   # predict here\n",
    "submission.head()"
   ]
  },
  {
   "cell_type": "code",
   "execution_count": 48,
   "metadata": {},
   "outputs": [
    {
     "name": "stdout",
     "output_type": "stream",
     "text": [
      "OK\n"
     ]
    }
   ],
   "source": [
    "# If you want you can submit my prediction to Kaggle, uncomment the line bollow\n",
    "\n",
    "if len(test) == len(submit):\n",
    "    print('OK')\n",
    "    #submission.to_csv('Bochkareva_submission.csv', index=False)            #THIS ONE\n",
    "else:\n",
    "    print('Error: test and submission different len')"
   ]
  },
  {
   "cell_type": "markdown",
   "metadata": {},
   "source": [
    "## Kaggle Result"
   ]
  },
  {
   "cell_type": "markdown",
   "metadata": {},
   "source": [
    "For submission I choosed the final LogReg model with accuracy (CV) score = 0.836167, which is Kaggle score = 0.78468."
   ]
  },
  {
   "attachments": {
    "Kaggle.JPG": {
     "image/jpeg": "[encoded data removed]"
    }
   },
   "cell_type": "markdown",
   "metadata": {},
   "source": [
    "![Kaggle.JPG](attachment:Kaggle.JPG)"
   ]
  },
  {
   "cell_type": "markdown",
   "metadata": {},
   "source": [
    "Load the test set and make the predictions. Submit them to kaggle and see the results :)\n",
    "Select the best model, load the test set and make the predictions. Submit them to kaggle.\n",
    "\n",
    "**Note**. X points will depend on your kaggle leaderboard score.\n",
    "$$ f(score) = 0.5, \\ \\ 0.76 \\leq score < 0.78,$$\n",
    "$$ f(score) = 1.0, \\ \\ 0.78 \\leq score < 0.81,$$ \n",
    "$$ f(score) = 2.5, \\ \\ 0.81 \\leq score $$ \n",
    "Your code should generate the output submitted to kaggle. Fix random seeds to make the results reproducible."
   ]
  },
  {
   "cell_type": "markdown",
   "metadata": {},
   "source": [
    "To sum up, creating extra cross features helped me a lot to improve the model accuracy, I also tried different features combinations, changing CV and n_neibours numbers, meanwile during tests scaling didn't help me fr Logistic Regression, but improved KNN model (but it was still lower than LogReg). So the final model above gave me the best result.\n",
    "\n",
    "#### Tnaks for your time!\n"
   ]
  },
  {
   "cell_type": "markdown",
   "metadata": {},
   "source": [
    "#### My Kaggle https://www.kaggle.com/tatianabochkareva\n"
   ]
  }
 ],
 "metadata": {
  "kernelspec": {
   "display_name": "Python 3",
   "language": "python",
   "name": "python3"
  },
  "language_info": {
   "codemirror_mode": {
    "name": "ipython",
    "version": 3
   },
   "file_extension": ".py",
   "mimetype": "text/x-python",
   "name": "python",
   "nbconvert_exporter": "python",
   "pygments_lexer": "ipython3",
   "version": "3.8.3"
  }
 },
 "nbformat": 4,
 "nbformat_minor": 4
}
