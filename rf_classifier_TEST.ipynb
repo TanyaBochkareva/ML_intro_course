{
 "cells": [
  {
   "cell_type": "markdown",
   "metadata": {},
   "source": [
    "# Introduction"
   ]
  },
  {
   "cell_type": "markdown",
   "metadata": {},
   "source": [
    "Fortunately, with libraries such as Scikit-Learn, it’s now easy to build and use almost any machine learning algorithm. But it’s helpful to have an idea of how a machine learning model works under the hood. This lets us diagnose the model when it’s underperforming or explain how it makes decisions, which is crucial if we want to convince others to trust our models.\n",
    "In this assignment, we’ll look at how to build and use the Decision Tree and the Random Forest in Python. We’ll start by understanding how a single decision tree makes classifications on a simple problem. Then, we’ll work our way to using a random forest on a real-world data science problem."
   ]
  },
  {
   "cell_type": "markdown",
   "metadata": {},
   "source": [
    "# Dataset"
   ]
  },
  {
   "cell_type": "markdown",
   "metadata": {},
   "source": [
    "The dataset we will use in this assignment is the Sonar dataset.\n",
    "\n",
    "This is a dataset that describes sonar chirp returns bouncing off different surfaces. The 60 predictors are the strength of the returns at different angles. It is a binary classification problem that requires a model to differentiate rocks from metal cylinders. There are 208 observations.\n",
    "\n",
    "It is a well-understood dataset. All of the variables are continuous and generally in the range of 0 to 1. The output variable is a string “M” for mine and “R” for rock, which will need to be converted to integers 1 and 0.\n",
    "\n",
    "By predicting the class with the most observations in the dataset (M or mines) the Zero Rule Algorithm can achieve an accuracy of 53%.\n",
    "\n",
    "You can learn more about this dataset at the UCI Machine Learning repository.\n",
    "https://archive.ics.uci.edu/ml/datasets/Connectionist+Bench+(Sonar,+Mines+vs.+Rocks)\n",
    "\n",
    "Download the dataset for free and place it in the \"data\" folder in your working directory with the filename sonar.all-data.csv."
   ]
  },
  {
   "cell_type": "markdown",
   "metadata": {},
   "source": [
    "# Import section"
   ]
  },
  {
   "cell_type": "code",
   "execution_count": 2,
   "metadata": {
    "ExecuteTime": {
     "end_time": "2020-12-01T08:48:35.022113Z",
     "start_time": "2020-12-01T08:48:34.335814Z"
    }
   },
   "outputs": [],
   "source": [
    "import random\n",
    "import numpy as np\n",
    "import pandas as pd\n",
    "from sklearn.model_selection import train_test_split\n",
    "from sklearn.metrics import accuracy_score\n",
    "\n",
    "np.random.seed(2020)\n",
    "random.seed(2020)"
   ]
  },
  {
   "cell_type": "code",
   "execution_count": 3,
   "metadata": {},
   "outputs": [],
   "source": [
    "import seaborn as sns\n",
    "import matplotlib.pyplot as plt\n",
    "\n",
    "pd.set_option('display.max_columns', None)"
   ]
  },
  {
   "cell_type": "code",
   "execution_count": 4,
   "metadata": {},
   "outputs": [],
   "source": [
    "from sklearn.pipeline import Pipeline, make_pipeline\n",
    "from sklearn.compose import ColumnTransformer\n",
    "from sklearn.model_selection import train_test_split, cross_validate, cross_val_score, GridSearchCV, RandomizedSearchCV\n",
    "from sklearn.metrics import plot_confusion_matrix, accuracy_score\n",
    "from sklearn.linear_model import SGDClassifier, LogisticRegression\n",
    "from sklearn.preprocessing import StandardScaler, OneHotEncoder\n",
    "\n",
    "from sklearn.neighbors import KNeighborsClassifier\n",
    "from sklearn.feature_selection import SelectFromModel, RFECV, SequentialFeatureSelector\n",
    "from sklearn.ensemble import RandomForestClassifier"
   ]
  },
  {
   "cell_type": "markdown",
   "metadata": {},
   "source": [
    "# Preprocess data"
   ]
  },
  {
   "cell_type": "markdown",
   "metadata": {},
   "source": [
    "Read data and convert targets to integers 1 and 0."
   ]
  },
  {
   "cell_type": "code",
   "execution_count": 5,
   "metadata": {
    "ExecuteTime": {
     "end_time": "2020-12-01T08:48:35.618412Z",
     "start_time": "2020-12-01T08:48:35.579547Z"
    }
   },
   "outputs": [
    {
     "data": {
      "text/html": [
       "<div>\n",
       "<style scoped>\n",
       "    .dataframe tbody tr th:only-of-type {\n",
       "        vertical-align: middle;\n",
       "    }\n",
       "\n",
       "    .dataframe tbody tr th {\n",
       "        vertical-align: top;\n",
       "    }\n",
       "\n",
       "    .dataframe thead th {\n",
       "        text-align: right;\n",
       "    }\n",
       "</style>\n",
       "<table border=\"1\" class=\"dataframe\">\n",
       "  <thead>\n",
       "    <tr style=\"text-align: right;\">\n",
       "      <th></th>\n",
       "      <th>feat_0</th>\n",
       "      <th>feat_1</th>\n",
       "      <th>feat_2</th>\n",
       "      <th>feat_3</th>\n",
       "      <th>feat_4</th>\n",
       "      <th>feat_5</th>\n",
       "      <th>feat_6</th>\n",
       "      <th>feat_7</th>\n",
       "      <th>feat_8</th>\n",
       "      <th>feat_9</th>\n",
       "      <th>feat_10</th>\n",
       "      <th>feat_11</th>\n",
       "      <th>feat_12</th>\n",
       "      <th>feat_13</th>\n",
       "      <th>feat_14</th>\n",
       "      <th>feat_15</th>\n",
       "      <th>feat_16</th>\n",
       "      <th>feat_17</th>\n",
       "      <th>feat_18</th>\n",
       "      <th>feat_19</th>\n",
       "      <th>feat_20</th>\n",
       "      <th>feat_21</th>\n",
       "      <th>feat_22</th>\n",
       "      <th>feat_23</th>\n",
       "      <th>feat_24</th>\n",
       "      <th>feat_25</th>\n",
       "      <th>feat_26</th>\n",
       "      <th>feat_27</th>\n",
       "      <th>feat_28</th>\n",
       "      <th>feat_29</th>\n",
       "      <th>feat_30</th>\n",
       "      <th>feat_31</th>\n",
       "      <th>feat_32</th>\n",
       "      <th>feat_33</th>\n",
       "      <th>feat_34</th>\n",
       "      <th>feat_35</th>\n",
       "      <th>feat_36</th>\n",
       "      <th>feat_37</th>\n",
       "      <th>feat_38</th>\n",
       "      <th>feat_39</th>\n",
       "      <th>feat_40</th>\n",
       "      <th>feat_41</th>\n",
       "      <th>feat_42</th>\n",
       "      <th>feat_43</th>\n",
       "      <th>feat_44</th>\n",
       "      <th>feat_45</th>\n",
       "      <th>feat_46</th>\n",
       "      <th>feat_47</th>\n",
       "      <th>feat_48</th>\n",
       "      <th>feat_49</th>\n",
       "      <th>feat_50</th>\n",
       "      <th>feat_51</th>\n",
       "      <th>feat_52</th>\n",
       "      <th>feat_53</th>\n",
       "      <th>feat_54</th>\n",
       "      <th>feat_55</th>\n",
       "      <th>feat_56</th>\n",
       "      <th>feat_57</th>\n",
       "      <th>feat_58</th>\n",
       "      <th>feat_59</th>\n",
       "      <th>target</th>\n",
       "    </tr>\n",
       "  </thead>\n",
       "  <tbody>\n",
       "    <tr>\n",
       "      <th>0</th>\n",
       "      <td>0.0200</td>\n",
       "      <td>0.0371</td>\n",
       "      <td>0.0428</td>\n",
       "      <td>0.0207</td>\n",
       "      <td>0.0954</td>\n",
       "      <td>0.0986</td>\n",
       "      <td>0.1539</td>\n",
       "      <td>0.1601</td>\n",
       "      <td>0.3109</td>\n",
       "      <td>0.2111</td>\n",
       "      <td>0.1609</td>\n",
       "      <td>0.1582</td>\n",
       "      <td>0.2238</td>\n",
       "      <td>0.0645</td>\n",
       "      <td>0.0660</td>\n",
       "      <td>0.2273</td>\n",
       "      <td>0.3100</td>\n",
       "      <td>0.2999</td>\n",
       "      <td>0.5078</td>\n",
       "      <td>0.4797</td>\n",
       "      <td>0.5783</td>\n",
       "      <td>0.5071</td>\n",
       "      <td>0.4328</td>\n",
       "      <td>0.5550</td>\n",
       "      <td>0.6711</td>\n",
       "      <td>0.6415</td>\n",
       "      <td>0.7104</td>\n",
       "      <td>0.8080</td>\n",
       "      <td>0.6791</td>\n",
       "      <td>0.3857</td>\n",
       "      <td>0.1307</td>\n",
       "      <td>0.2604</td>\n",
       "      <td>0.5121</td>\n",
       "      <td>0.7547</td>\n",
       "      <td>0.8537</td>\n",
       "      <td>0.8507</td>\n",
       "      <td>0.6692</td>\n",
       "      <td>0.6097</td>\n",
       "      <td>0.4943</td>\n",
       "      <td>0.2744</td>\n",
       "      <td>0.0510</td>\n",
       "      <td>0.2834</td>\n",
       "      <td>0.2825</td>\n",
       "      <td>0.4256</td>\n",
       "      <td>0.2641</td>\n",
       "      <td>0.1386</td>\n",
       "      <td>0.1051</td>\n",
       "      <td>0.1343</td>\n",
       "      <td>0.0383</td>\n",
       "      <td>0.0324</td>\n",
       "      <td>0.0232</td>\n",
       "      <td>0.0027</td>\n",
       "      <td>0.0065</td>\n",
       "      <td>0.0159</td>\n",
       "      <td>0.0072</td>\n",
       "      <td>0.0167</td>\n",
       "      <td>0.0180</td>\n",
       "      <td>0.0084</td>\n",
       "      <td>0.0090</td>\n",
       "      <td>0.0032</td>\n",
       "      <td>0</td>\n",
       "    </tr>\n",
       "    <tr>\n",
       "      <th>1</th>\n",
       "      <td>0.0453</td>\n",
       "      <td>0.0523</td>\n",
       "      <td>0.0843</td>\n",
       "      <td>0.0689</td>\n",
       "      <td>0.1183</td>\n",
       "      <td>0.2583</td>\n",
       "      <td>0.2156</td>\n",
       "      <td>0.3481</td>\n",
       "      <td>0.3337</td>\n",
       "      <td>0.2872</td>\n",
       "      <td>0.4918</td>\n",
       "      <td>0.6552</td>\n",
       "      <td>0.6919</td>\n",
       "      <td>0.7797</td>\n",
       "      <td>0.7464</td>\n",
       "      <td>0.9444</td>\n",
       "      <td>1.0000</td>\n",
       "      <td>0.8874</td>\n",
       "      <td>0.8024</td>\n",
       "      <td>0.7818</td>\n",
       "      <td>0.5212</td>\n",
       "      <td>0.4052</td>\n",
       "      <td>0.3957</td>\n",
       "      <td>0.3914</td>\n",
       "      <td>0.3250</td>\n",
       "      <td>0.3200</td>\n",
       "      <td>0.3271</td>\n",
       "      <td>0.2767</td>\n",
       "      <td>0.4423</td>\n",
       "      <td>0.2028</td>\n",
       "      <td>0.3788</td>\n",
       "      <td>0.2947</td>\n",
       "      <td>0.1984</td>\n",
       "      <td>0.2341</td>\n",
       "      <td>0.1306</td>\n",
       "      <td>0.4182</td>\n",
       "      <td>0.3835</td>\n",
       "      <td>0.1057</td>\n",
       "      <td>0.1840</td>\n",
       "      <td>0.1970</td>\n",
       "      <td>0.1674</td>\n",
       "      <td>0.0583</td>\n",
       "      <td>0.1401</td>\n",
       "      <td>0.1628</td>\n",
       "      <td>0.0621</td>\n",
       "      <td>0.0203</td>\n",
       "      <td>0.0530</td>\n",
       "      <td>0.0742</td>\n",
       "      <td>0.0409</td>\n",
       "      <td>0.0061</td>\n",
       "      <td>0.0125</td>\n",
       "      <td>0.0084</td>\n",
       "      <td>0.0089</td>\n",
       "      <td>0.0048</td>\n",
       "      <td>0.0094</td>\n",
       "      <td>0.0191</td>\n",
       "      <td>0.0140</td>\n",
       "      <td>0.0049</td>\n",
       "      <td>0.0052</td>\n",
       "      <td>0.0044</td>\n",
       "      <td>0</td>\n",
       "    </tr>\n",
       "    <tr>\n",
       "      <th>2</th>\n",
       "      <td>0.0262</td>\n",
       "      <td>0.0582</td>\n",
       "      <td>0.1099</td>\n",
       "      <td>0.1083</td>\n",
       "      <td>0.0974</td>\n",
       "      <td>0.2280</td>\n",
       "      <td>0.2431</td>\n",
       "      <td>0.3771</td>\n",
       "      <td>0.5598</td>\n",
       "      <td>0.6194</td>\n",
       "      <td>0.6333</td>\n",
       "      <td>0.7060</td>\n",
       "      <td>0.5544</td>\n",
       "      <td>0.5320</td>\n",
       "      <td>0.6479</td>\n",
       "      <td>0.6931</td>\n",
       "      <td>0.6759</td>\n",
       "      <td>0.7551</td>\n",
       "      <td>0.8929</td>\n",
       "      <td>0.8619</td>\n",
       "      <td>0.7974</td>\n",
       "      <td>0.6737</td>\n",
       "      <td>0.4293</td>\n",
       "      <td>0.3648</td>\n",
       "      <td>0.5331</td>\n",
       "      <td>0.2413</td>\n",
       "      <td>0.5070</td>\n",
       "      <td>0.8533</td>\n",
       "      <td>0.6036</td>\n",
       "      <td>0.8514</td>\n",
       "      <td>0.8512</td>\n",
       "      <td>0.5045</td>\n",
       "      <td>0.1862</td>\n",
       "      <td>0.2709</td>\n",
       "      <td>0.4232</td>\n",
       "      <td>0.3043</td>\n",
       "      <td>0.6116</td>\n",
       "      <td>0.6756</td>\n",
       "      <td>0.5375</td>\n",
       "      <td>0.4719</td>\n",
       "      <td>0.4647</td>\n",
       "      <td>0.2587</td>\n",
       "      <td>0.2129</td>\n",
       "      <td>0.2222</td>\n",
       "      <td>0.2111</td>\n",
       "      <td>0.0176</td>\n",
       "      <td>0.1348</td>\n",
       "      <td>0.0744</td>\n",
       "      <td>0.0130</td>\n",
       "      <td>0.0106</td>\n",
       "      <td>0.0033</td>\n",
       "      <td>0.0232</td>\n",
       "      <td>0.0166</td>\n",
       "      <td>0.0095</td>\n",
       "      <td>0.0180</td>\n",
       "      <td>0.0244</td>\n",
       "      <td>0.0316</td>\n",
       "      <td>0.0164</td>\n",
       "      <td>0.0095</td>\n",
       "      <td>0.0078</td>\n",
       "      <td>0</td>\n",
       "    </tr>\n",
       "    <tr>\n",
       "      <th>3</th>\n",
       "      <td>0.0100</td>\n",
       "      <td>0.0171</td>\n",
       "      <td>0.0623</td>\n",
       "      <td>0.0205</td>\n",
       "      <td>0.0205</td>\n",
       "      <td>0.0368</td>\n",
       "      <td>0.1098</td>\n",
       "      <td>0.1276</td>\n",
       "      <td>0.0598</td>\n",
       "      <td>0.1264</td>\n",
       "      <td>0.0881</td>\n",
       "      <td>0.1992</td>\n",
       "      <td>0.0184</td>\n",
       "      <td>0.2261</td>\n",
       "      <td>0.1729</td>\n",
       "      <td>0.2131</td>\n",
       "      <td>0.0693</td>\n",
       "      <td>0.2281</td>\n",
       "      <td>0.4060</td>\n",
       "      <td>0.3973</td>\n",
       "      <td>0.2741</td>\n",
       "      <td>0.3690</td>\n",
       "      <td>0.5556</td>\n",
       "      <td>0.4846</td>\n",
       "      <td>0.3140</td>\n",
       "      <td>0.5334</td>\n",
       "      <td>0.5256</td>\n",
       "      <td>0.2520</td>\n",
       "      <td>0.2090</td>\n",
       "      <td>0.3559</td>\n",
       "      <td>0.6260</td>\n",
       "      <td>0.7340</td>\n",
       "      <td>0.6120</td>\n",
       "      <td>0.3497</td>\n",
       "      <td>0.3953</td>\n",
       "      <td>0.3012</td>\n",
       "      <td>0.5408</td>\n",
       "      <td>0.8814</td>\n",
       "      <td>0.9857</td>\n",
       "      <td>0.9167</td>\n",
       "      <td>0.6121</td>\n",
       "      <td>0.5006</td>\n",
       "      <td>0.3210</td>\n",
       "      <td>0.3202</td>\n",
       "      <td>0.4295</td>\n",
       "      <td>0.3654</td>\n",
       "      <td>0.2655</td>\n",
       "      <td>0.1576</td>\n",
       "      <td>0.0681</td>\n",
       "      <td>0.0294</td>\n",
       "      <td>0.0241</td>\n",
       "      <td>0.0121</td>\n",
       "      <td>0.0036</td>\n",
       "      <td>0.0150</td>\n",
       "      <td>0.0085</td>\n",
       "      <td>0.0073</td>\n",
       "      <td>0.0050</td>\n",
       "      <td>0.0044</td>\n",
       "      <td>0.0040</td>\n",
       "      <td>0.0117</td>\n",
       "      <td>0</td>\n",
       "    </tr>\n",
       "    <tr>\n",
       "      <th>4</th>\n",
       "      <td>0.0762</td>\n",
       "      <td>0.0666</td>\n",
       "      <td>0.0481</td>\n",
       "      <td>0.0394</td>\n",
       "      <td>0.0590</td>\n",
       "      <td>0.0649</td>\n",
       "      <td>0.1209</td>\n",
       "      <td>0.2467</td>\n",
       "      <td>0.3564</td>\n",
       "      <td>0.4459</td>\n",
       "      <td>0.4152</td>\n",
       "      <td>0.3952</td>\n",
       "      <td>0.4256</td>\n",
       "      <td>0.4135</td>\n",
       "      <td>0.4528</td>\n",
       "      <td>0.5326</td>\n",
       "      <td>0.7306</td>\n",
       "      <td>0.6193</td>\n",
       "      <td>0.2032</td>\n",
       "      <td>0.4636</td>\n",
       "      <td>0.4148</td>\n",
       "      <td>0.4292</td>\n",
       "      <td>0.5730</td>\n",
       "      <td>0.5399</td>\n",
       "      <td>0.3161</td>\n",
       "      <td>0.2285</td>\n",
       "      <td>0.6995</td>\n",
       "      <td>1.0000</td>\n",
       "      <td>0.7262</td>\n",
       "      <td>0.4724</td>\n",
       "      <td>0.5103</td>\n",
       "      <td>0.5459</td>\n",
       "      <td>0.2881</td>\n",
       "      <td>0.0981</td>\n",
       "      <td>0.1951</td>\n",
       "      <td>0.4181</td>\n",
       "      <td>0.4604</td>\n",
       "      <td>0.3217</td>\n",
       "      <td>0.2828</td>\n",
       "      <td>0.2430</td>\n",
       "      <td>0.1979</td>\n",
       "      <td>0.2444</td>\n",
       "      <td>0.1847</td>\n",
       "      <td>0.0841</td>\n",
       "      <td>0.0692</td>\n",
       "      <td>0.0528</td>\n",
       "      <td>0.0357</td>\n",
       "      <td>0.0085</td>\n",
       "      <td>0.0230</td>\n",
       "      <td>0.0046</td>\n",
       "      <td>0.0156</td>\n",
       "      <td>0.0031</td>\n",
       "      <td>0.0054</td>\n",
       "      <td>0.0105</td>\n",
       "      <td>0.0110</td>\n",
       "      <td>0.0015</td>\n",
       "      <td>0.0072</td>\n",
       "      <td>0.0048</td>\n",
       "      <td>0.0107</td>\n",
       "      <td>0.0094</td>\n",
       "      <td>0</td>\n",
       "    </tr>\n",
       "  </tbody>\n",
       "</table>\n",
       "</div>"
      ],
      "text/plain": [
       "   feat_0  feat_1  feat_2  feat_3  feat_4  feat_5  feat_6  feat_7  feat_8  \\\n",
       "0  0.0200  0.0371  0.0428  0.0207  0.0954  0.0986  0.1539  0.1601  0.3109   \n",
       "1  0.0453  0.0523  0.0843  0.0689  0.1183  0.2583  0.2156  0.3481  0.3337   \n",
       "2  0.0262  0.0582  0.1099  0.1083  0.0974  0.2280  0.2431  0.3771  0.5598   \n",
       "3  0.0100  0.0171  0.0623  0.0205  0.0205  0.0368  0.1098  0.1276  0.0598   \n",
       "4  0.0762  0.0666  0.0481  0.0394  0.0590  0.0649  0.1209  0.2467  0.3564   \n",
       "\n",
       "   feat_9  feat_10  feat_11  feat_12  feat_13  feat_14  feat_15  feat_16  \\\n",
       "0  0.2111   0.1609   0.1582   0.2238   0.0645   0.0660   0.2273   0.3100   \n",
       "1  0.2872   0.4918   0.6552   0.6919   0.7797   0.7464   0.9444   1.0000   \n",
       "2  0.6194   0.6333   0.7060   0.5544   0.5320   0.6479   0.6931   0.6759   \n",
       "3  0.1264   0.0881   0.1992   0.0184   0.2261   0.1729   0.2131   0.0693   \n",
       "4  0.4459   0.4152   0.3952   0.4256   0.4135   0.4528   0.5326   0.7306   \n",
       "\n",
       "   feat_17  feat_18  feat_19  feat_20  feat_21  feat_22  feat_23  feat_24  \\\n",
       "0   0.2999   0.5078   0.4797   0.5783   0.5071   0.4328   0.5550   0.6711   \n",
       "1   0.8874   0.8024   0.7818   0.5212   0.4052   0.3957   0.3914   0.3250   \n",
       "2   0.7551   0.8929   0.8619   0.7974   0.6737   0.4293   0.3648   0.5331   \n",
       "3   0.2281   0.4060   0.3973   0.2741   0.3690   0.5556   0.4846   0.3140   \n",
       "4   0.6193   0.2032   0.4636   0.4148   0.4292   0.5730   0.5399   0.3161   \n",
       "\n",
       "   feat_25  feat_26  feat_27  feat_28  feat_29  feat_30  feat_31  feat_32  \\\n",
       "0   0.6415   0.7104   0.8080   0.6791   0.3857   0.1307   0.2604   0.5121   \n",
       "1   0.3200   0.3271   0.2767   0.4423   0.2028   0.3788   0.2947   0.1984   \n",
       "2   0.2413   0.5070   0.8533   0.6036   0.8514   0.8512   0.5045   0.1862   \n",
       "3   0.5334   0.5256   0.2520   0.2090   0.3559   0.6260   0.7340   0.6120   \n",
       "4   0.2285   0.6995   1.0000   0.7262   0.4724   0.5103   0.5459   0.2881   \n",
       "\n",
       "   feat_33  feat_34  feat_35  feat_36  feat_37  feat_38  feat_39  feat_40  \\\n",
       "0   0.7547   0.8537   0.8507   0.6692   0.6097   0.4943   0.2744   0.0510   \n",
       "1   0.2341   0.1306   0.4182   0.3835   0.1057   0.1840   0.1970   0.1674   \n",
       "2   0.2709   0.4232   0.3043   0.6116   0.6756   0.5375   0.4719   0.4647   \n",
       "3   0.3497   0.3953   0.3012   0.5408   0.8814   0.9857   0.9167   0.6121   \n",
       "4   0.0981   0.1951   0.4181   0.4604   0.3217   0.2828   0.2430   0.1979   \n",
       "\n",
       "   feat_41  feat_42  feat_43  feat_44  feat_45  feat_46  feat_47  feat_48  \\\n",
       "0   0.2834   0.2825   0.4256   0.2641   0.1386   0.1051   0.1343   0.0383   \n",
       "1   0.0583   0.1401   0.1628   0.0621   0.0203   0.0530   0.0742   0.0409   \n",
       "2   0.2587   0.2129   0.2222   0.2111   0.0176   0.1348   0.0744   0.0130   \n",
       "3   0.5006   0.3210   0.3202   0.4295   0.3654   0.2655   0.1576   0.0681   \n",
       "4   0.2444   0.1847   0.0841   0.0692   0.0528   0.0357   0.0085   0.0230   \n",
       "\n",
       "   feat_49  feat_50  feat_51  feat_52  feat_53  feat_54  feat_55  feat_56  \\\n",
       "0   0.0324   0.0232   0.0027   0.0065   0.0159   0.0072   0.0167   0.0180   \n",
       "1   0.0061   0.0125   0.0084   0.0089   0.0048   0.0094   0.0191   0.0140   \n",
       "2   0.0106   0.0033   0.0232   0.0166   0.0095   0.0180   0.0244   0.0316   \n",
       "3   0.0294   0.0241   0.0121   0.0036   0.0150   0.0085   0.0073   0.0050   \n",
       "4   0.0046   0.0156   0.0031   0.0054   0.0105   0.0110   0.0015   0.0072   \n",
       "\n",
       "   feat_57  feat_58  feat_59  target  \n",
       "0   0.0084   0.0090   0.0032       0  \n",
       "1   0.0049   0.0052   0.0044       0  \n",
       "2   0.0164   0.0095   0.0078       0  \n",
       "3   0.0044   0.0040   0.0117       0  \n",
       "4   0.0048   0.0107   0.0094       0  "
      ]
     },
     "execution_count": 5,
     "metadata": {},
     "output_type": "execute_result"
    }
   ],
   "source": [
    "PATH = 'data/'\n",
    "df = pd.read_csv(PATH+'sonar-all-data.csv', header=None)\n",
    "df.columns = [f'feat_{col}' if col!=60 else 'target' for col in df.columns]\n",
    "df['target'] = df['target'].map({'M': 1, 'R': 0})\n",
    "df.head()"
   ]
  },
  {
   "cell_type": "code",
   "execution_count": 6,
   "metadata": {},
   "outputs": [
    {
     "data": {
      "text/plain": [
       "1    111\n",
       "0     97\n",
       "Name: target, dtype: int64"
      ]
     },
     "execution_count": 6,
     "metadata": {},
     "output_type": "execute_result"
    }
   ],
   "source": [
    "df['target'].value_counts()"
   ]
  },
  {
   "cell_type": "markdown",
   "metadata": {},
   "source": [
    "# Split data (train and test)"
   ]
  },
  {
   "cell_type": "code",
   "execution_count": 7,
   "metadata": {
    "ExecuteTime": {
     "end_time": "2020-12-01T08:48:36.554013Z",
     "start_time": "2020-12-01T08:48:36.548028Z"
    }
   },
   "outputs": [],
   "source": [
    "X_train, X_test, y_train, y_test = train_test_split(df.drop(columns='target'), df['target'], test_size=0.2, random_state=2020)"
   ]
  },
  {
   "cell_type": "markdown",
   "metadata": {},
   "source": [
    "# Cost functions"
   ]
  },
  {
   "cell_type": "markdown",
   "metadata": {},
   "source": [
    "In this section you should implement two cost functions. Any of these can be used in the model."
   ]
  },
  {
   "cell_type": "markdown",
   "metadata": {},
   "source": [
    "## Gini index"
   ]
  },
  {
   "cell_type": "code",
   "execution_count": 8,
   "metadata": {
    "ExecuteTime": {
     "end_time": "2020-12-01T08:48:38.113015Z",
     "start_time": "2020-12-01T08:48:38.108028Z"
    }
   },
   "outputs": [],
   "source": [
    "def gini_index(x):\n",
    "    \"\"\" Calculate Gini Index for a node\n",
    "    Args:\n",
    "        x: Numpy-array of targets in a node\n",
    "    Returns:\n",
    "        float: Gini index\n",
    "    \"\"\"    \n",
    "    if len(x) == 0:\n",
    "        return 0.0\n",
    "    p = np.bincount(x) / len(x)\n",
    "    return 1 - np.sum(p*p)"
   ]
  },
  {
   "cell_type": "code",
   "execution_count": 9,
   "metadata": {
    "ExecuteTime": {
     "end_time": "2020-12-01T08:48:38.326622Z",
     "start_time": "2020-12-01T08:48:38.320603Z"
    }
   },
   "outputs": [
    {
     "data": {
      "text/plain": [
       "0.4977348372781065"
      ]
     },
     "execution_count": 9,
     "metadata": {},
     "output_type": "execute_result"
    }
   ],
   "source": [
    "target = df['target'].values\n",
    "gini_index(target)"
   ]
  },
  {
   "cell_type": "code",
   "execution_count": 10,
   "metadata": {},
   "outputs": [
    {
     "data": {
      "text/plain": [
       "0.4949999999999999"
      ]
     },
     "execution_count": 10,
     "metadata": {},
     "output_type": "execute_result"
    }
   ],
   "source": [
    "#TEST\n",
    "my_target = np.array([0,0,0,0,0,0,0,0,0,1,1,1,1,1,1,1,1,1,1,1])\n",
    "my_target\n",
    "gini_index(my_target)"
   ]
  },
  {
   "cell_type": "code",
   "execution_count": 11,
   "metadata": {
    "ExecuteTime": {
     "end_time": "2020-12-01T08:48:38.517903Z",
     "start_time": "2020-12-01T08:48:38.512916Z"
    }
   },
   "outputs": [],
   "source": [
    "def gini_gain(parent_node, splits):\n",
    "    \"\"\" Calculate Gini Gain for a particular split\n",
    "    Args:\n",
    "        parent_node: Numpy-array of targets in a parent node\n",
    "        splits: List of two numpy-arrays. Each numpy-array is targets in a child node\n",
    "    Returns:\n",
    "        float: Gini gain\n",
    "    \"\"\"       \n",
    "    splits_gini = np.sum([gini_index(split)*(len(split)/len(parent_node)) for split in splits])\n",
    "    return gini_index(parent_node) - splits_gini"
   ]
  },
  {
   "cell_type": "code",
   "execution_count": 12,
   "metadata": {
    "ExecuteTime": {
     "end_time": "2020-12-01T08:48:38.731542Z",
     "start_time": "2020-12-01T08:48:38.719612Z"
    }
   },
   "outputs": [
    {
     "data": {
      "text/plain": [
       "-0.0003705758273065962"
      ]
     },
     "execution_count": 12,
     "metadata": {},
     "output_type": "execute_result"
    }
   ],
   "source": [
    "splits = [np.random.choice(df['target'].values, 100), np.random.choice(df['target'].values, 108)]\n",
    "gini_gain(target, splits)"
   ]
  },
  {
   "cell_type": "markdown",
   "metadata": {},
   "source": [
    "## Entropy"
   ]
  },
  {
   "cell_type": "code",
   "execution_count": 13,
   "metadata": {
    "ExecuteTime": {
     "end_time": "2020-12-01T08:48:39.080145Z",
     "start_time": "2020-12-01T08:48:39.075122Z"
    }
   },
   "outputs": [],
   "source": [
    "def entropy(x):\n",
    "    \"\"\" Calculate Entropy for a node\n",
    "    Args:\n",
    "        x: Numpy-array of targets in a node\n",
    "    Returns:\n",
    "        float: Entropy\n",
    "    \"\"\"\n",
    "    if len(x) == 0:\n",
    "        return 0.0\n",
    "    p = np.clip(np.bincount(x) / len(x), 1e-15, 1.)\n",
    "    return -np.sum(p * np.log(p))"
   ]
  },
  {
   "cell_type": "code",
   "execution_count": 14,
   "metadata": {
    "ExecuteTime": {
     "end_time": "2020-12-01T08:48:39.415230Z",
     "start_time": "2020-12-01T08:48:39.410243Z"
    }
   },
   "outputs": [],
   "source": [
    "def information_gain(parent_node, splits):\n",
    "    \"\"\" Calculate Information Gain for a particular split\n",
    "    Args:\n",
    "        parent_node: Numpy-array of targets in a parent node\n",
    "        splits: List of two numpy-arrays. Each numpy-array is targets in a child node\n",
    "    Returns:\n",
    "        float: Information Gain\n",
    "    \"\"\"     \n",
    "    splits_entropy = np.sum([entropy(split)*(len(split)/len(parent_node)) for split in splits])\n",
    "    return entropy(parent_node) - splits_entropy"
   ]
  },
  {
   "cell_type": "markdown",
   "metadata": {},
   "source": [
    "# Split function"
   ]
  },
  {
   "cell_type": "markdown",
   "metadata": {},
   "source": [
    "Implement split functions"
   ]
  },
  {
   "cell_type": "code",
   "execution_count": 15,
   "metadata": {
    "ExecuteTime": {
     "end_time": "2020-12-01T08:48:40.068764Z",
     "start_time": "2020-12-01T08:48:40.063788Z"
    }
   },
   "outputs": [],
   "source": [
    "def split(X, y, value):\n",
    "    \"\"\" Split y-values in order to calculate gain later\n",
    "    Args:\n",
    "        X: 1-dimensional numpy-array of data predictor with shape (N,)\n",
    "        y: 1-dimensional numpy-array of targets with shape (N,)\n",
    "        value (float): the value by which the X should be splitted\n",
    "    Returns:\n",
    "        Two 1-dimensional numpy-arrays with targets related to splits\n",
    "    \"\"\"      \n",
    "    left_mask = X < value\n",
    "    right_mask = X >= value\n",
    "    return y[left_mask], y[right_mask]\n",
    "\n",
    "\n",
    "def split_dataset(X, y, column, value):\n",
    "    \"\"\" Split dataset by a particular column and value\n",
    "    Args:\n",
    "        X: 2-dimensional numpy-array (N, num_feats). N-number of samples\n",
    "        y: 1-dimensional numpy-array of targets with shape (N,)  \n",
    "        column (int): the column by which the X should be splitted\n",
    "        value (float): the value by which the column should be splitted\n",
    "    Returns:\n",
    "        Two 2-dimensional numpy-arrays with data and two 1-dimensional numpy-arrays with targets related to splits\n",
    "        left_X, right_X, left_y, right_y\n",
    "    \"\"\"       \n",
    "    left_mask = X[:, column] < value\n",
    "    right_mask = X[:, column] >= value\n",
    "    left_y, right_y = y[left_mask], y[right_mask]\n",
    "    left_X, right_X = X[left_mask], X[right_mask]\n",
    "    return left_X, right_X, left_y, right_y"
   ]
  },
  {
   "cell_type": "markdown",
   "metadata": {},
   "source": [
    "# Decision tree"
   ]
  },
  {
   "cell_type": "code",
   "execution_count": 16,
   "metadata": {
    "ExecuteTime": {
     "end_time": "2020-12-01T08:48:40.412627Z",
     "start_time": "2020-12-01T08:48:40.393648Z"
    }
   },
   "outputs": [],
   "source": [
    "class Tree(object):\n",
    "    \"\"\"A decision tree classifier.\n",
    "\n",
    "    Args:\n",
    "        criterion : {\"gini_gain\", \"information_gain\"}\n",
    "    \"\"\"\n",
    "    def __init__(self, criterion=None):\n",
    "        self.impurity = None\n",
    "        self.threshold = None\n",
    "        self.column_index = None\n",
    "        self.outcome_probs = None\n",
    "        self.criterion = criterion\n",
    "        self.left_child = None\n",
    "        self.right_child = None\n",
    "\n",
    "    @property\n",
    "    def is_terminal(self):\n",
    "        \"\"\" Define is it terminal node\n",
    "        \"\"\"          \n",
    "        return not bool(self.left_child and self.right_child)\n",
    "\n",
    "    def _find_splits(self, X):\n",
    "        \"\"\"Find all possible split values.\"\"\"\n",
    "        split_values = set()\n",
    "\n",
    "        # Get unique values in a sorted order\n",
    "        x_unique = list(np.unique(X))\n",
    "        for i in range(1, len(x_unique)):\n",
    "            # Find a point between two values\n",
    "            average = (x_unique[i - 1] + x_unique[i]) / 2.0\n",
    "            split_values.add(average)\n",
    "\n",
    "        return list(split_values)\n",
    "\n",
    "    def _find_best_split(self, X, y, n_features):\n",
    "        \"\"\"Find best feature and value for a split. Greedy algorithm.\"\"\"\n",
    "\n",
    "        # Sample random subset of features\n",
    "        subset = random.sample(list(range(0, X.shape[1])), n_features)\n",
    "        max_gain, max_col, max_val = None, None, None\n",
    "\n",
    "        for column in subset:\n",
    "            split_values = self._find_splits(X[:, column])\n",
    "            for value in split_values:\n",
    "                splits = split(X[:, column], y, value)\n",
    "                gain = self.criterion(y, splits)\n",
    "\n",
    "                if (max_gain is None) or (gain > max_gain):\n",
    "                    max_col, max_val, max_gain = column, value, gain\n",
    "        return max_col, max_val, max_gain\n",
    "\n",
    "    def fit(self, X, y, n_features=None, max_depth=None):\n",
    "        \"\"\"Fit model.\n",
    "\n",
    "        Args:\n",
    "            X (numpy-array): The training input samples. 2-dimensional numpy array.\n",
    "            y (numpy-array): The target values. 1-dimensional numpy array.\n",
    "            n_features (int): The number of features when fit is performed (default: all features)\n",
    "            max_depth (int): The maximum depth of the tree. If None, then nodes are expanded until\n",
    "                             all leaves are pure.\n",
    "        \"\"\"        \n",
    "        try:\n",
    "            # Exit from recursion using assert syntax\n",
    "            if max_depth is not None:\n",
    "                assert max_depth > 0\n",
    "                max_depth -= 1\n",
    "\n",
    "            if n_features is None:\n",
    "                n_features = X.shape[1]\n",
    "\n",
    "            column, value, gain = self._find_best_split(X, y, n_features)\n",
    "            assert gain is not None\n",
    "\n",
    "            self.column_index = column\n",
    "            self.threshold = value\n",
    "            self.impurity = gain\n",
    "\n",
    "            # Split dataset\n",
    "            left_X, right_X, left_target, right_target = split_dataset(X, y, column, value)\n",
    "\n",
    "            # Grow left and right child\n",
    "            self.left_child = Tree(self.criterion)\n",
    "            self.left_child.fit(\n",
    "                left_X, left_target, n_features, max_depth\n",
    "            )\n",
    "\n",
    "            self.right_child = Tree(self.criterion)\n",
    "            self.right_child.fit(\n",
    "                right_X, right_target, n_features, max_depth\n",
    "            )\n",
    "        except AssertionError:\n",
    "            self.outcome_probs = np.around(np.sum(y) / y.shape[0])\n",
    "\n",
    "\n",
    "    def predict_row(self, row):\n",
    "        \"\"\"Predict single row.\"\"\"\n",
    "        if not self.is_terminal:\n",
    "            if row[self.column_index] < self.threshold:\n",
    "                return self.left_child.predict_row(row)\n",
    "            else:\n",
    "                return self.right_child.predict_row(row)\n",
    "        return self.outcome_probs\n",
    "\n",
    "    def predict(self, X):\n",
    "        \"\"\"Make predictions.\n",
    "\n",
    "        Args:\n",
    "            X (numpy-array): The test input samples. 2-dimensional numpy array.\n",
    "        \"\"\"  \n",
    "        result = np.zeros(X.shape[0])\n",
    "        for i in range(X.shape[0]):\n",
    "            result[i] = self.predict_row(X[i, :])\n",
    "        return result"
   ]
  },
  {
   "cell_type": "code",
   "execution_count": 17,
   "metadata": {
    "ExecuteTime": {
     "end_time": "2020-12-01T08:48:45.836138Z",
     "start_time": "2020-12-01T08:48:41.916791Z"
    }
   },
   "outputs": [
    {
     "name": "stdout",
     "output_type": "stream",
     "text": [
      "Accuracy score is: 0.6666666666666666\n"
     ]
    }
   ],
   "source": [
    "model = Tree(criterion=gini_gain)\n",
    "model.fit(X_train.values, y_train.values)\n",
    "y_pred = model.predict(X_test.values)\n",
    "print(f\"Accuracy score is: {accuracy_score(y_test, y_pred)}\")"
   ]
  },
  {
   "cell_type": "code",
   "execution_count": 18,
   "metadata": {
    "ExecuteTime": {
     "end_time": "2020-12-01T08:48:41.915820Z",
     "start_time": "2020-12-01T08:48:40.891474Z"
    }
   },
   "outputs": [
    {
     "name": "stdout",
     "output_type": "stream",
     "text": [
      "Accuracy score is: 0.6666666666666666\n"
     ]
    }
   ],
   "source": [
    "model = Tree(criterion=gini_gain)\n",
    "model.fit(X_train.values, y_train.values, max_depth=3)\n",
    "y_pred = model.predict(X_test.values)\n",
    "print(f\"Accuracy score is: {accuracy_score(y_test, y_pred)}\")"
   ]
  },
  {
   "cell_type": "code",
   "execution_count": 19,
   "metadata": {},
   "outputs": [
    {
     "name": "stdout",
     "output_type": "stream",
     "text": [
      "Accuracy score is: 0.7380952380952381\n"
     ]
    }
   ],
   "source": [
    "model = Tree(criterion=information_gain)\n",
    "model.fit(X_train.values, y_train.values, max_depth=3)\n",
    "y_pred = model.predict(X_test.values)\n",
    "print(f\"Accuracy score is: {accuracy_score(y_test, y_pred)}\")"
   ]
  },
  {
   "cell_type": "code",
   "execution_count": 20,
   "metadata": {},
   "outputs": [
    {
     "name": "stdout",
     "output_type": "stream",
     "text": [
      "Accuracy score is: 0.7380952380952381\n"
     ]
    }
   ],
   "source": [
    "model = Tree(criterion=information_gain)\n",
    "model.fit(X_train.values, y_train.values)\n",
    "y_pred = model.predict(X_test.values)\n",
    "print(f\"Accuracy score is: {accuracy_score(y_test, y_pred)}\")"
   ]
  },
  {
   "cell_type": "markdown",
   "metadata": {},
   "source": [
    "# Random forest"
   ]
  },
  {
   "cell_type": "code",
   "execution_count": 21,
   "metadata": {
    "ExecuteTime": {
     "end_time": "2020-12-01T08:48:45.857086Z",
     "start_time": "2020-12-01T08:48:45.838139Z"
    }
   },
   "outputs": [],
   "source": [
    "class RandomForestClassifier(object):\n",
    "    \"\"\"\n",
    "    A random forest classifier.\n",
    "    A random forest is a meta estimator that fits a number of decision tree\n",
    "    classifiers on various sub-samples of the dataset and uses averaging to\n",
    "    improve the predictive accuracy and control overfitting.\n",
    "    \n",
    "    Args:\n",
    "        n_estimators : int, default=10\n",
    "            The number of trees in the forest.\n",
    "\n",
    "        max_depth : int, default=None\n",
    "            The maximum depth of the tree. If None, then nodes are expanded until\n",
    "            all leaves are pure.        \n",
    "\n",
    "        n_features : int, default=None\n",
    "            The number of features to consider when looking for the best split.\n",
    "            If None, then `n_features=sqrt(n_features)`.\n",
    "\n",
    "        criterion : {\"gini\", \"entropy\"}, default=\"gini\"\n",
    "            The function to measure the quality of a split. Supported criteria are\n",
    "            \"gini\" for the Gini impurity and \"entropy\" for the information gain.\n",
    "    \"\"\"\n",
    "\n",
    "    def __init__(self, n_estimators=10, max_depth=None, n_features=None, criterion=\"entropy\", bootstrap=True):\n",
    "        self.n_estimators = n_estimators\n",
    "        self.max_depth = max_depth\n",
    "        self.n_features = n_features\n",
    "        self.bootstrap = bootstrap\n",
    "        \n",
    "        if criterion == \"entropy\":\n",
    "            self.criterion = information_gain\n",
    "        elif criterion == \"gini\":\n",
    "            self.criterion = gini_gain\n",
    "        else:\n",
    "            raise ValueError(f\"Unknown criterion '{criterion}'\")\n",
    "            \n",
    "        self.trees = [Tree(criterion=self.criterion) for _ in range(n_estimators)]\n",
    "        \n",
    "    def _init_data(self, X, y):\n",
    "        \"\"\"Ensure data are in the expected format.\n",
    "        Ensures X and y are stored as numpy ndarrays by converting from an\n",
    "        array-like object if necessary. \n",
    "        Parameters\n",
    "        Args:\n",
    "            X : array-like\n",
    "                Feature dataset.\n",
    "            y : array-like, default=None\n",
    "                Target values. By default is required, but if y_required = false\n",
    "                then may be omitted.\n",
    "        \"\"\"\n",
    "        self.size = len(X)\n",
    "        \n",
    "        if not isinstance(X, np.ndarray):\n",
    "            self.X = np.array(X)\n",
    "        else:\n",
    "            self.X = X\n",
    "\n",
    "        if not isinstance(y, np.ndarray):\n",
    "            self.y = np.array(y)\n",
    "        else:\n",
    "            self.y = y\n",
    "            \n",
    "    def bootstrap_data(self, size):\n",
    "        return np.random.randint(size, size=size)\n",
    "    \n",
    "    def fit(self, X, y):\n",
    "        \"\"\"Fit model.\n",
    "\n",
    "        Args:\n",
    "            X (numpy-array): The training input samples. 2-dimensional numpy array.\n",
    "            y (numpy-array): The target values. 1-dimensional numpy array.\n",
    "        \"\"\"         \n",
    "        if self.n_features is None:\n",
    "            self.n_features = int(np.sqrt(X.shape[1]))\n",
    "        elif X.shape[1] < self.n_features:\n",
    "            raise ValueError(f\"'n_features should be <= n_features'\")\n",
    "            \n",
    "        self._init_data(X, y)\n",
    "        \n",
    "        for tree in self.trees:\n",
    "            if self.bootstrap:\n",
    "                idxs = self.bootstrap_data(self.size)\n",
    "                X = self.X[idxs]\n",
    "                y = self.y[idxs]\n",
    "            else:\n",
    "                X = self.X\n",
    "                y = self.y\n",
    "                \n",
    "            tree.fit(\n",
    "                X,\n",
    "                y,\n",
    "                n_features=self.n_features,\n",
    "                max_depth=self.max_depth,\n",
    "            )\n",
    "            \n",
    "    def predict(self, X):\n",
    "        \"\"\"Make predictions.\n",
    "\n",
    "        Args:\n",
    "            X (numpy-array): The test data input samples. 2-dimensional numpy array.\n",
    "        \"\"\"            \n",
    "        if not isinstance(X, np.ndarray):\n",
    "            X = np.array(X)\n",
    "\n",
    "        if self.X is not None:\n",
    "            predictions = np.zeros(len(X))\n",
    "            for i in range(len(X)):\n",
    "                row_pred = 0.\n",
    "                for tree in self.trees:\n",
    "                    row_pred += tree.predict_row(X[i, :])\n",
    "\n",
    "                row_pred /= self.n_estimators\n",
    "                predictions[i] = round(row_pred)\n",
    "            return predictions  \n",
    "        else:\n",
    "            raise ValueError(\"You should fit a model before `predict`\")"
   ]
  },
  {
   "cell_type": "markdown",
   "metadata": {},
   "source": [
    "Fit two models with \"n_estimators=10\" and \"n_estimators=100\" hyperparameters. Explain the results."
   ]
  },
  {
   "cell_type": "code",
   "execution_count": 22,
   "metadata": {
    "ExecuteTime": {
     "end_time": "2020-12-01T08:48:51.641967Z",
     "start_time": "2020-12-01T08:48:45.860076Z"
    }
   },
   "outputs": [],
   "source": [
    "#model = RandomForestClassifier(n_estimators=10, max_depth=None, n_features=None, criterion=\"entropy\")\n",
    "#model.fit(X_train, y_train)\n",
    "#y_pred = model.predict(X_test)\n",
    "#print(f\"Accuracy score is: {accuracy_score(y_test, y_pred)}\")"
   ]
  },
  {
   "cell_type": "code",
   "execution_count": 23,
   "metadata": {
    "ExecuteTime": {
     "end_time": "2020-12-01T08:49:47.690531Z",
     "start_time": "2020-12-01T08:48:51.644919Z"
    }
   },
   "outputs": [],
   "source": [
    "#model = RandomForestClassifier(n_estimators=100, max_depth=None, n_features=None, criterion=\"entropy\")\n",
    "#model.fit(X_train, y_train)\n",
    "#y_pred = model.predict(X_test)\n",
    "#print(f\"Accuracy score is: {accuracy_score(y_test, y_pred)}\")"
   ]
  },
  {
   "cell_type": "markdown",
   "metadata": {},
   "source": [
    "Now it's your turn to explore the various parameters of sklearn [RandomForestClassifier](https://scikit-learn.org/stable/modules/generated/sklearn.ensemble.RandomForestClassifier.html) and their influence on model quality."
   ]
  },
  {
   "cell_type": "markdown",
   "metadata": {},
   "source": [
    "# Homework part 1. RandomForestClassifier"
   ]
  },
  {
   "cell_type": "markdown",
   "metadata": {},
   "source": [
    "_Note_: Consider **accuracy** as main metric of model performance on this dataset."
   ]
  },
  {
   "cell_type": "code",
   "execution_count": 24,
   "metadata": {},
   "outputs": [],
   "source": [
    "from sklearn.ensemble import RandomForestClassifier, RandomForestRegressor"
   ]
  },
  {
   "cell_type": "markdown",
   "metadata": {},
   "source": [
    "**Task 1 (0.5 points)** Split the dataset into train, test and validation parts (0.6 / 0.2 / 0.2). First two will be used for model hyperparameter tuning whereas the best model quality should be evaluated on validation part."
   ]
  },
  {
   "cell_type": "code",
   "execution_count": 25,
   "metadata": {},
   "outputs": [],
   "source": [
    "x = df.drop(columns='target')\n",
    "labels = df['target']\n",
    "X_full, X_val, y_full, y_val = train_test_split(x, labels, test_size=0.2, train_size=0.8, random_state=42)\n",
    "X_train, X_test, y_train, y_test = train_test_split(X_full, y_full, test_size = 0.25, train_size =0.75, random_state=42)"
   ]
  },
  {
   "cell_type": "code",
   "execution_count": 26,
   "metadata": {},
   "outputs": [
    {
     "name": "stdout",
     "output_type": "stream",
     "text": [
      "Train split size is:\t\t 60%\n",
      "Test split size is:\t\t 20%\n",
      "Validation split size is:\t 20%\n"
     ]
    }
   ],
   "source": [
    "print(f'Train split size is:\\t\\t {round(len(X_train)*100/len(x))}%')\n",
    "print(f'Test split size is:\\t\\t {round(len(X_test)*100/len(x))}%')\n",
    "print(f'Validation split size is:\\t {round(len(X_val)*100/len(x))}%')"
   ]
  },
  {
   "cell_type": "markdown",
   "metadata": {},
   "source": [
    "**Task 2 (2 points)**. Apply '_greedy_' hyperparameter tuning of RandomForestClassifier model. '_Greedy_' way means the following general approach. At first we tune one model parameter whereas others are fixed with default values. Then we move on to tune the second parameter whereas others are fixed default values and first has the best values from previous step. After it we tune the third parameter with best fixed values for previous two and default values for the rest. Repeat until we go through all the parameters, then repeat this cycle if you are seeing a clear increase in the test metric. <br>\n",
    "\n",
    "Although this approach has a lot of disadvantages (you may think which ones), sometimes that is the only way to tune model typerparams due to big training time **if you understand how the model parameters are interrelated and the tuning order takes those dependencies into account.**<br>\n",
    "\n",
    "Here is one of the possible options for RandomForestClassifier:\n",
    "- Choose a decent value for number of trees using '_elbow_' rule. You may plot the dependence of accuracy on trees_num and pick up the number after which the error decreases not **as much as before**. \n",
    "- Pick up the best split criterion ('gini' / 'entropy') and then tune _max_depth_, _min_samples_split_, _min_samples_leaf_.\n",
    "- Increase number of trees with best found parameters so far.\n",
    "- Repeat this excersice starting from picking the best split criterion while other params are fixed with best values from previous steps **if you observe a significant test metric improvement**. Otherwise just stop and measure your best model result on validation set."
   ]
  },
  {
   "cell_type": "markdown",
   "metadata": {},
   "source": [
    "## Greedy search"
   ]
  },
  {
   "cell_type": "code",
   "execution_count": 27,
   "metadata": {},
   "outputs": [
    {
     "name": "stdout",
     "output_type": "stream",
     "text": [
      "Accuracy/std using RFC for 2: 0.5952380952380952\n",
      "Accuracy/std using RFC for 4: 0.5714285714285714\n",
      "Accuracy/std using RFC for 6: 0.6428571428571429\n",
      "Accuracy/std using RFC for 8: 0.6428571428571429\n",
      "Accuracy/std using RFC for 10: 0.6428571428571429\n",
      "Accuracy/std using RFC for 12: 0.6428571428571429\n",
      "Accuracy/std using RFC for 14: 0.6428571428571429\n",
      "Accuracy/std using RFC for 16: 0.6428571428571429\n",
      "Accuracy/std using RFC for 18: 0.6190476190476191\n",
      "Accuracy/std using RFC for 20: 0.6190476190476191\n",
      "Accuracy/std using RFC for 22: 0.6190476190476191\n",
      "Accuracy/std using RFC for 24: 0.6666666666666666\n",
      "Accuracy/std using RFC for 26: 0.6428571428571429\n",
      "Accuracy/std using RFC for 28: 0.6428571428571429\n",
      "Accuracy/std using RFC for 30: 0.6428571428571429\n",
      "Accuracy/std using RFC for 32: 0.6428571428571429\n",
      "Accuracy/std using RFC for 34: 0.6428571428571429\n",
      "Accuracy/std using RFC for 36: 0.6428571428571429\n",
      "Accuracy/std using RFC for 38: 0.6428571428571429\n",
      "Accuracy/std using RFC for 40: 0.6428571428571429\n",
      "Accuracy/std using RFC for 42: 0.6428571428571429\n",
      "Accuracy/std using RFC for 44: 0.6428571428571429\n",
      "Accuracy/std using RFC for 46: 0.6190476190476191\n",
      "Accuracy/std using RFC for 48: 0.6190476190476191\n",
      "Accuracy/std using RFC for 50: 0.6190476190476191\n",
      "Accuracy/std using RFC for 52: 0.6190476190476191\n",
      "Accuracy/std using RFC for 54: 0.6190476190476191\n",
      "Accuracy/std using RFC for 56: 0.6190476190476191\n",
      "Accuracy/std using RFC for 58: 0.6190476190476191\n",
      "Accuracy/std using RFC for 60: 0.6190476190476191\n",
      "Accuracy/std using RFC for 62: 0.6190476190476191\n",
      "Accuracy/std using RFC for 64: 0.6190476190476191\n",
      "Accuracy/std using RFC for 66: 0.6190476190476191\n",
      "Accuracy/std using RFC for 68: 0.6190476190476191\n",
      "Accuracy/std using RFC for 70: 0.6190476190476191\n",
      "Accuracy/std using RFC for 72: 0.6190476190476191\n",
      "Accuracy/std using RFC for 74: 0.6190476190476191\n",
      "Accuracy/std using RFC for 76: 0.6190476190476191\n",
      "Accuracy/std using RFC for 78: 0.6190476190476191\n",
      "Accuracy/std using RFC for 80: 0.6190476190476191\n",
      "Accuracy/std using RFC for 82: 0.6190476190476191\n",
      "Accuracy/std using RFC for 84: 0.6190476190476191\n",
      "Accuracy/std using RFC for 86: 0.6190476190476191\n",
      "Accuracy/std using RFC for 88: 0.6190476190476191\n",
      "Accuracy/std using RFC for 90: 0.6190476190476191\n",
      "Accuracy/std using RFC for 92: 0.6190476190476191\n",
      "Accuracy/std using RFC for 94: 0.6190476190476191\n",
      "Accuracy/std using RFC for 96: 0.6190476190476191\n",
      "Accuracy/std using RFC for 98: 0.6190476190476191\n"
     ]
    }
   ],
   "source": [
    "# n_estimators search\n",
    "result = 2\n",
    "best = -1\n",
    "for neighb in np.arange(2, 100, 2):\n",
    "    \n",
    "    rf = RandomForestClassifier(n_estimators=neighb, criterion='gini', \n",
    "                            max_features=None, max_depth=None, \n",
    "                            min_samples_split=2, min_samples_leaf=1,\n",
    "                            bootstrap=False, n_jobs=None, \n",
    "                            random_state=42, verbose=0)\n",
    "    rf_pipeline = Pipeline(steps=[('classifier', rf)])\n",
    "    clf = rf_pipeline.fit(X_train, y_train)\n",
    "    \n",
    "    accuracy = accuracy_score(y_true=y_test, y_pred=clf.predict(X_test))\n",
    "    if accuracy > best:\n",
    "        best = accuracy\n",
    "        result = neighb\n",
    "    print(f'Accuracy/std using RFC for {neighb}: {accuracy}')\n"
   ]
  },
  {
   "cell_type": "code",
   "execution_count": 28,
   "metadata": {},
   "outputs": [
    {
     "name": "stdout",
     "output_type": "stream",
     "text": [
      "The best accuracy 0.6666666666666666 with n_estimators = 24.\n"
     ]
    }
   ],
   "source": [
    "print(f'The best accuracy {best} with n_estimators = {result}.')"
   ]
  },
  {
   "cell_type": "code",
   "execution_count": 29,
   "metadata": {},
   "outputs": [
    {
     "name": "stdout",
     "output_type": "stream",
     "text": [
      "Accuracy/std using RFC for gini: 0.6666666666666666\n",
      "Accuracy/std using RFC for entropy: 0.7380952380952381\n"
     ]
    }
   ],
   "source": [
    "# criterion search\n",
    "result = ''\n",
    "best = -1\n",
    "for criterion in ['gini', 'entropy']:\n",
    "    \n",
    "    rf = RandomForestClassifier(n_estimators=24, criterion=criterion, \n",
    "                            max_features=None, max_depth=None, \n",
    "                            min_samples_split=2, min_samples_leaf=1,\n",
    "                            bootstrap=False, n_jobs=None, \n",
    "                            random_state=42, verbose=0)\n",
    "    rf_pipeline = Pipeline(steps=[('classifier', rf)])\n",
    "    clf = rf_pipeline.fit(X_train, y_train)\n",
    "    \n",
    "    accuracy = accuracy_score(y_true=y_test, y_pred=clf.predict(X_test))\n",
    "    if accuracy > best:\n",
    "        best = accuracy\n",
    "        result = criterion\n",
    "    print(f'Accuracy/std using RFC for {criterion}: {accuracy}')"
   ]
  },
  {
   "cell_type": "code",
   "execution_count": 30,
   "metadata": {},
   "outputs": [
    {
     "name": "stdout",
     "output_type": "stream",
     "text": [
      "The best accuracy 0.7380952380952381 with entropy criterion\n"
     ]
    }
   ],
   "source": [
    "print(f'The best accuracy {best} with {result} criterion')"
   ]
  },
  {
   "cell_type": "code",
   "execution_count": 31,
   "metadata": {},
   "outputs": [
    {
     "name": "stdout",
     "output_type": "stream",
     "text": [
      "Accuracy/std using RFC for 1: 0.8095238095238095\n",
      "Accuracy/std using RFC for 2: 0.7619047619047619\n",
      "Accuracy/std using RFC for 3: 0.7619047619047619\n",
      "Accuracy/std using RFC for 4: 0.7857142857142857\n",
      "Accuracy/std using RFC for 5: 0.7619047619047619\n",
      "Accuracy/std using RFC for 6: 0.8095238095238095\n",
      "Accuracy/std using RFC for 7: 0.8095238095238095\n",
      "Accuracy/std using RFC for 8: 0.8809523809523809\n",
      "Accuracy/std using RFC for 9: 0.7619047619047619\n",
      "Accuracy/std using RFC for 10: 0.8333333333333334\n",
      "Accuracy/std using RFC for 11: 0.7619047619047619\n",
      "Accuracy/std using RFC for 12: 0.7857142857142857\n",
      "Accuracy/std using RFC for 13: 0.7380952380952381\n",
      "Accuracy/std using RFC for 14: 0.7857142857142857\n",
      "Accuracy/std using RFC for 15: 0.7380952380952381\n",
      "Accuracy/std using RFC for 16: 0.7380952380952381\n",
      "Accuracy/std using RFC for 17: 0.7857142857142857\n",
      "Accuracy/std using RFC for 18: 0.7142857142857143\n",
      "Accuracy/std using RFC for 19: 0.7380952380952381\n",
      "Accuracy/std using RFC for 20: 0.8333333333333334\n",
      "Accuracy/std using RFC for 21: 0.7619047619047619\n",
      "Accuracy/std using RFC for 22: 0.7142857142857143\n",
      "Accuracy/std using RFC for 23: 0.7380952380952381\n",
      "Accuracy/std using RFC for 24: 0.7619047619047619\n",
      "Accuracy/std using RFC for 25: 0.7857142857142857\n",
      "Accuracy/std using RFC for 26: 0.7857142857142857\n",
      "Accuracy/std using RFC for 27: 0.7619047619047619\n",
      "Accuracy/std using RFC for 28: 0.7619047619047619\n",
      "Accuracy/std using RFC for 29: 0.8571428571428571\n",
      "Accuracy/std using RFC for 30: 0.7857142857142857\n",
      "Accuracy/std using RFC for 31: 0.7619047619047619\n",
      "Accuracy/std using RFC for 32: 0.7619047619047619\n",
      "Accuracy/std using RFC for 33: 0.7857142857142857\n",
      "Accuracy/std using RFC for 34: 0.7142857142857143\n",
      "Accuracy/std using RFC for 35: 0.7857142857142857\n",
      "Accuracy/std using RFC for 36: 0.7380952380952381\n",
      "Accuracy/std using RFC for 37: 0.7619047619047619\n",
      "Accuracy/std using RFC for 38: 0.7380952380952381\n",
      "Accuracy/std using RFC for 39: 0.7142857142857143\n",
      "Accuracy/std using RFC for 40: 0.7619047619047619\n",
      "Accuracy/std using RFC for 41: 0.7857142857142857\n",
      "Accuracy/std using RFC for 42: 0.6666666666666666\n",
      "Accuracy/std using RFC for 43: 0.7380952380952381\n",
      "Accuracy/std using RFC for 44: 0.7380952380952381\n",
      "Accuracy/std using RFC for 45: 0.7380952380952381\n",
      "Accuracy/std using RFC for 46: 0.7380952380952381\n",
      "Accuracy/std using RFC for 47: 0.7380952380952381\n",
      "Accuracy/std using RFC for 48: 0.7619047619047619\n",
      "Accuracy/std using RFC for 49: 0.7619047619047619\n",
      "Accuracy/std using RFC for 50: 0.6904761904761905\n",
      "Accuracy/std using RFC for 51: 0.7619047619047619\n",
      "Accuracy/std using RFC for 52: 0.7380952380952381\n",
      "Accuracy/std using RFC for 53: 0.7619047619047619\n",
      "Accuracy/std using RFC for 54: 0.7619047619047619\n"
     ]
    }
   ],
   "source": [
    "# max_features search\n",
    "result = 1\n",
    "best = -1\n",
    "for features in np.arange(1, 55):\n",
    "    \n",
    "    rf = RandomForestClassifier(n_estimators=24, criterion='entropy', \n",
    "                            max_features=features, max_depth=None, \n",
    "                            min_samples_split=2, min_samples_leaf=1,\n",
    "                            bootstrap=False, n_jobs=None, \n",
    "                            random_state=42, verbose=0)\n",
    "    rf_pipeline = Pipeline(steps=[('classifier', rf)])\n",
    "    clf = rf_pipeline.fit(X_train, y_train)\n",
    "    \n",
    "    accuracy = accuracy_score(y_true=y_test, y_pred=clf.predict(X_test))\n",
    "    if accuracy > best:\n",
    "        best = accuracy\n",
    "        result = features\n",
    "    print(f'Accuracy/std using RFC for {features}: {accuracy}')"
   ]
  },
  {
   "cell_type": "code",
   "execution_count": 32,
   "metadata": {},
   "outputs": [
    {
     "name": "stdout",
     "output_type": "stream",
     "text": [
      "The best accuracy 0.8809523809523809 with 8 features\n"
     ]
    }
   ],
   "source": [
    "print(f'The best accuracy {best} with {result} features')"
   ]
  },
  {
   "cell_type": "code",
   "execution_count": 33,
   "metadata": {},
   "outputs": [
    {
     "name": "stdout",
     "output_type": "stream",
     "text": [
      "Accuracy/std using RFC for 1: 0.6428571428571429\n",
      "Accuracy/std using RFC for 2: 0.7380952380952381\n",
      "Accuracy/std using RFC for 3: 0.7619047619047619\n",
      "Accuracy/std using RFC for 4: 0.7857142857142857\n",
      "Accuracy/std using RFC for 5: 0.7619047619047619\n",
      "Accuracy/std using RFC for 6: 0.7857142857142857\n",
      "Accuracy/std using RFC for 7: 0.8571428571428571\n",
      "Accuracy/std using RFC for 8: 0.9047619047619048\n",
      "Accuracy/std using RFC for 9: 0.8809523809523809\n",
      "Accuracy/std using RFC for 10: 0.8809523809523809\n",
      "Accuracy/std using RFC for 11: 0.8809523809523809\n",
      "Accuracy/std using RFC for 12: 0.8809523809523809\n",
      "Accuracy/std using RFC for 13: 0.8809523809523809\n",
      "Accuracy/std using RFC for 14: 0.8809523809523809\n",
      "Accuracy/std using RFC for 15: 0.8809523809523809\n",
      "Accuracy/std using RFC for 16: 0.8809523809523809\n",
      "Accuracy/std using RFC for 17: 0.8809523809523809\n",
      "Accuracy/std using RFC for 18: 0.8809523809523809\n",
      "Accuracy/std using RFC for 19: 0.8809523809523809\n",
      "Accuracy/std using RFC for 20: 0.8809523809523809\n",
      "Accuracy/std using RFC for 21: 0.8809523809523809\n",
      "Accuracy/std using RFC for 22: 0.8809523809523809\n",
      "Accuracy/std using RFC for 23: 0.8809523809523809\n",
      "Accuracy/std using RFC for 24: 0.8809523809523809\n",
      "Accuracy/std using RFC for 25: 0.8809523809523809\n",
      "Accuracy/std using RFC for 26: 0.8809523809523809\n",
      "Accuracy/std using RFC for 27: 0.8809523809523809\n",
      "Accuracy/std using RFC for 28: 0.8809523809523809\n",
      "Accuracy/std using RFC for 29: 0.8809523809523809\n",
      "Accuracy/std using RFC for 30: 0.8809523809523809\n",
      "Accuracy/std using RFC for 31: 0.8809523809523809\n",
      "Accuracy/std using RFC for 32: 0.8809523809523809\n",
      "Accuracy/std using RFC for 33: 0.8809523809523809\n",
      "Accuracy/std using RFC for 34: 0.8809523809523809\n",
      "Accuracy/std using RFC for 35: 0.8809523809523809\n",
      "Accuracy/std using RFC for 36: 0.8809523809523809\n",
      "Accuracy/std using RFC for 37: 0.8809523809523809\n",
      "Accuracy/std using RFC for 38: 0.8809523809523809\n",
      "Accuracy/std using RFC for 39: 0.8809523809523809\n",
      "Accuracy/std using RFC for 40: 0.8809523809523809\n",
      "Accuracy/std using RFC for 41: 0.8809523809523809\n",
      "Accuracy/std using RFC for 42: 0.8809523809523809\n",
      "Accuracy/std using RFC for 43: 0.8809523809523809\n",
      "Accuracy/std using RFC for 44: 0.8809523809523809\n",
      "Accuracy/std using RFC for 45: 0.8809523809523809\n",
      "Accuracy/std using RFC for 46: 0.8809523809523809\n",
      "Accuracy/std using RFC for 47: 0.8809523809523809\n",
      "Accuracy/std using RFC for 48: 0.8809523809523809\n",
      "Accuracy/std using RFC for 49: 0.8809523809523809\n",
      "Accuracy/std using RFC for 50: 0.8809523809523809\n",
      "Accuracy/std using RFC for 51: 0.8809523809523809\n",
      "Accuracy/std using RFC for 52: 0.8809523809523809\n",
      "Accuracy/std using RFC for 53: 0.8809523809523809\n",
      "Accuracy/std using RFC for 54: 0.8809523809523809\n",
      "Accuracy/std using RFC for 55: 0.8809523809523809\n",
      "Accuracy/std using RFC for 56: 0.8809523809523809\n",
      "Accuracy/std using RFC for 57: 0.8809523809523809\n",
      "Accuracy/std using RFC for 58: 0.8809523809523809\n",
      "Accuracy/std using RFC for 59: 0.8809523809523809\n",
      "Accuracy/std using RFC for 60: 0.8809523809523809\n",
      "Accuracy/std using RFC for 61: 0.8809523809523809\n",
      "Accuracy/std using RFC for 62: 0.8809523809523809\n",
      "Accuracy/std using RFC for 63: 0.8809523809523809\n",
      "Accuracy/std using RFC for 64: 0.8809523809523809\n",
      "Accuracy/std using RFC for 65: 0.8809523809523809\n",
      "Accuracy/std using RFC for 66: 0.8809523809523809\n",
      "Accuracy/std using RFC for 67: 0.8809523809523809\n",
      "Accuracy/std using RFC for 68: 0.8809523809523809\n",
      "Accuracy/std using RFC for 69: 0.8809523809523809\n",
      "Accuracy/std using RFC for 70: 0.8809523809523809\n",
      "Accuracy/std using RFC for 71: 0.8809523809523809\n",
      "Accuracy/std using RFC for 72: 0.8809523809523809\n",
      "Accuracy/std using RFC for 73: 0.8809523809523809\n",
      "Accuracy/std using RFC for 74: 0.8809523809523809\n",
      "Accuracy/std using RFC for 75: 0.8809523809523809\n",
      "Accuracy/std using RFC for 76: 0.8809523809523809\n",
      "Accuracy/std using RFC for 77: 0.8809523809523809\n",
      "Accuracy/std using RFC for 78: 0.8809523809523809\n",
      "Accuracy/std using RFC for 79: 0.8809523809523809\n",
      "Accuracy/std using RFC for 80: 0.8809523809523809\n",
      "Accuracy/std using RFC for 81: 0.8809523809523809\n",
      "Accuracy/std using RFC for 82: 0.8809523809523809\n",
      "Accuracy/std using RFC for 83: 0.8809523809523809\n",
      "Accuracy/std using RFC for 84: 0.8809523809523809\n",
      "Accuracy/std using RFC for 85: 0.8809523809523809\n",
      "Accuracy/std using RFC for 86: 0.8809523809523809\n",
      "Accuracy/std using RFC for 87: 0.8809523809523809\n",
      "Accuracy/std using RFC for 88: 0.8809523809523809\n",
      "Accuracy/std using RFC for 89: 0.8809523809523809\n",
      "Accuracy/std using RFC for 90: 0.8809523809523809\n",
      "Accuracy/std using RFC for 91: 0.8809523809523809\n",
      "Accuracy/std using RFC for 92: 0.8809523809523809\n",
      "Accuracy/std using RFC for 93: 0.8809523809523809\n",
      "Accuracy/std using RFC for 94: 0.8809523809523809\n",
      "Accuracy/std using RFC for 95: 0.8809523809523809\n",
      "Accuracy/std using RFC for 96: 0.8809523809523809\n",
      "Accuracy/std using RFC for 97: 0.8809523809523809\n",
      "Accuracy/std using RFC for 98: 0.8809523809523809\n",
      "Accuracy/std using RFC for 99: 0.8809523809523809\n",
      "Accuracy/std using RFC for 100: 0.8809523809523809\n",
      "Accuracy/std using RFC for 101: 0.8809523809523809\n",
      "Accuracy/std using RFC for 102: 0.8809523809523809\n",
      "Accuracy/std using RFC for 103: 0.8809523809523809\n",
      "Accuracy/std using RFC for 104: 0.8809523809523809\n",
      "Accuracy/std using RFC for 105: 0.8809523809523809\n",
      "Accuracy/std using RFC for 106: 0.8809523809523809\n",
      "Accuracy/std using RFC for 107: 0.8809523809523809\n",
      "Accuracy/std using RFC for 108: 0.8809523809523809\n",
      "Accuracy/std using RFC for 109: 0.8809523809523809\n",
      "Accuracy/std using RFC for 110: 0.8809523809523809\n",
      "Accuracy/std using RFC for 111: 0.8809523809523809\n",
      "Accuracy/std using RFC for 112: 0.8809523809523809\n",
      "Accuracy/std using RFC for 113: 0.8809523809523809\n",
      "Accuracy/std using RFC for 114: 0.8809523809523809\n",
      "Accuracy/std using RFC for 115: 0.8809523809523809\n",
      "Accuracy/std using RFC for 116: 0.8809523809523809\n",
      "Accuracy/std using RFC for 117: 0.8809523809523809\n",
      "Accuracy/std using RFC for 118: 0.8809523809523809\n",
      "Accuracy/std using RFC for 119: 0.8809523809523809\n",
      "Accuracy/std using RFC for 120: 0.8809523809523809\n",
      "Accuracy/std using RFC for 121: 0.8809523809523809\n",
      "Accuracy/std using RFC for 122: 0.8809523809523809\n",
      "Accuracy/std using RFC for 123: 0.8809523809523809\n",
      "Accuracy/std using RFC for 124: 0.8809523809523809\n",
      "Accuracy/std using RFC for 125: 0.8809523809523809\n",
      "Accuracy/std using RFC for 126: 0.8809523809523809\n",
      "Accuracy/std using RFC for 127: 0.8809523809523809\n",
      "Accuracy/std using RFC for 128: 0.8809523809523809\n",
      "Accuracy/std using RFC for 129: 0.8809523809523809\n",
      "Accuracy/std using RFC for 130: 0.8809523809523809\n",
      "Accuracy/std using RFC for 131: 0.8809523809523809\n",
      "Accuracy/std using RFC for 132: 0.8809523809523809\n",
      "Accuracy/std using RFC for 133: 0.8809523809523809\n",
      "Accuracy/std using RFC for 134: 0.8809523809523809\n",
      "Accuracy/std using RFC for 135: 0.8809523809523809\n",
      "Accuracy/std using RFC for 136: 0.8809523809523809\n",
      "Accuracy/std using RFC for 137: 0.8809523809523809\n",
      "Accuracy/std using RFC for 138: 0.8809523809523809\n",
      "Accuracy/std using RFC for 139: 0.8809523809523809\n",
      "Accuracy/std using RFC for 140: 0.8809523809523809\n",
      "Accuracy/std using RFC for 141: 0.8809523809523809\n",
      "Accuracy/std using RFC for 142: 0.8809523809523809\n",
      "Accuracy/std using RFC for 143: 0.8809523809523809\n",
      "Accuracy/std using RFC for 144: 0.8809523809523809\n",
      "Accuracy/std using RFC for 145: 0.8809523809523809\n",
      "Accuracy/std using RFC for 146: 0.8809523809523809\n",
      "Accuracy/std using RFC for 147: 0.8809523809523809\n",
      "Accuracy/std using RFC for 148: 0.8809523809523809\n",
      "Accuracy/std using RFC for 149: 0.8809523809523809\n",
      "Accuracy/std using RFC for 150: 0.8809523809523809\n",
      "Accuracy/std using RFC for 151: 0.8809523809523809\n",
      "Accuracy/std using RFC for 152: 0.8809523809523809\n",
      "Accuracy/std using RFC for 153: 0.8809523809523809\n",
      "Accuracy/std using RFC for 154: 0.8809523809523809\n",
      "Accuracy/std using RFC for 155: 0.8809523809523809\n",
      "Accuracy/std using RFC for 156: 0.8809523809523809\n",
      "Accuracy/std using RFC for 157: 0.8809523809523809\n",
      "Accuracy/std using RFC for 158: 0.8809523809523809\n",
      "Accuracy/std using RFC for 159: 0.8809523809523809\n",
      "Accuracy/std using RFC for 160: 0.8809523809523809\n",
      "Accuracy/std using RFC for 161: 0.8809523809523809\n",
      "Accuracy/std using RFC for 162: 0.8809523809523809\n",
      "Accuracy/std using RFC for 163: 0.8809523809523809\n",
      "Accuracy/std using RFC for 164: 0.8809523809523809\n",
      "Accuracy/std using RFC for 165: 0.8809523809523809\n",
      "Accuracy/std using RFC for 166: 0.8809523809523809\n",
      "Accuracy/std using RFC for 167: 0.8809523809523809\n",
      "Accuracy/std using RFC for 168: 0.8809523809523809\n",
      "Accuracy/std using RFC for 169: 0.8809523809523809\n"
     ]
    },
    {
     "name": "stdout",
     "output_type": "stream",
     "text": [
      "Accuracy/std using RFC for 170: 0.8809523809523809\n",
      "Accuracy/std using RFC for 171: 0.8809523809523809\n",
      "Accuracy/std using RFC for 172: 0.8809523809523809\n",
      "Accuracy/std using RFC for 173: 0.8809523809523809\n",
      "Accuracy/std using RFC for 174: 0.8809523809523809\n",
      "Accuracy/std using RFC for 175: 0.8809523809523809\n",
      "Accuracy/std using RFC for 176: 0.8809523809523809\n",
      "Accuracy/std using RFC for 177: 0.8809523809523809\n",
      "Accuracy/std using RFC for 178: 0.8809523809523809\n",
      "Accuracy/std using RFC for 179: 0.8809523809523809\n",
      "Accuracy/std using RFC for 180: 0.8809523809523809\n",
      "Accuracy/std using RFC for 181: 0.8809523809523809\n",
      "Accuracy/std using RFC for 182: 0.8809523809523809\n",
      "Accuracy/std using RFC for 183: 0.8809523809523809\n",
      "Accuracy/std using RFC for 184: 0.8809523809523809\n",
      "Accuracy/std using RFC for 185: 0.8809523809523809\n",
      "Accuracy/std using RFC for 186: 0.8809523809523809\n",
      "Accuracy/std using RFC for 187: 0.8809523809523809\n",
      "Accuracy/std using RFC for 188: 0.8809523809523809\n",
      "Accuracy/std using RFC for 189: 0.8809523809523809\n",
      "Accuracy/std using RFC for 190: 0.8809523809523809\n",
      "Accuracy/std using RFC for 191: 0.8809523809523809\n",
      "Accuracy/std using RFC for 192: 0.8809523809523809\n",
      "Accuracy/std using RFC for 193: 0.8809523809523809\n",
      "Accuracy/std using RFC for 194: 0.8809523809523809\n",
      "Accuracy/std using RFC for 195: 0.8809523809523809\n",
      "Accuracy/std using RFC for 196: 0.8809523809523809\n",
      "Accuracy/std using RFC for 197: 0.8809523809523809\n",
      "Accuracy/std using RFC for 198: 0.8809523809523809\n",
      "Accuracy/std using RFC for 199: 0.8809523809523809\n"
     ]
    }
   ],
   "source": [
    "# max_depth search\n",
    "result = 1\n",
    "best = -1\n",
    "for depth in np.arange(1, 200):\n",
    "    \n",
    "    rf = RandomForestClassifier(n_estimators=24, criterion='entropy', \n",
    "                            max_features=8, max_depth=depth, \n",
    "                            min_samples_split=2, min_samples_leaf=1,\n",
    "                            bootstrap=False, n_jobs=None, \n",
    "                            random_state=42, verbose=0)\n",
    "    rf_pipeline = Pipeline(steps=[('classifier', rf)])\n",
    "    clf = rf_pipeline.fit(X_train, y_train)\n",
    "    \n",
    "    accuracy = accuracy_score(y_true=y_test, y_pred=clf.predict(X_test))\n",
    "    if accuracy > best:\n",
    "        best = accuracy\n",
    "        result = depth\n",
    "    print(f'Accuracy/std using RFC for {depth}: {accuracy}')"
   ]
  },
  {
   "cell_type": "code",
   "execution_count": 34,
   "metadata": {},
   "outputs": [
    {
     "name": "stdout",
     "output_type": "stream",
     "text": [
      "The best accuracy 0.9047619047619048 with max_depth = 8\n"
     ]
    }
   ],
   "source": [
    "print(f'The best accuracy {best} with max_depth = {result}')"
   ]
  },
  {
   "cell_type": "code",
   "execution_count": 35,
   "metadata": {},
   "outputs": [
    {
     "name": "stdout",
     "output_type": "stream",
     "text": [
      "Accuracy/std using RFC for 2: 0.9047619047619048\n",
      "Accuracy/std using RFC for 3: 0.8571428571428571\n",
      "Accuracy/std using RFC for 4: 0.8809523809523809\n",
      "Accuracy/std using RFC for 5: 0.7857142857142857\n",
      "Accuracy/std using RFC for 6: 0.7857142857142857\n",
      "Accuracy/std using RFC for 7: 0.7619047619047619\n",
      "Accuracy/std using RFC for 8: 0.7619047619047619\n",
      "Accuracy/std using RFC for 9: 0.7619047619047619\n",
      "Accuracy/std using RFC for 10: 0.7857142857142857\n",
      "Accuracy/std using RFC for 11: 0.7380952380952381\n",
      "Accuracy/std using RFC for 12: 0.7380952380952381\n",
      "Accuracy/std using RFC for 13: 0.7142857142857143\n",
      "Accuracy/std using RFC for 14: 0.7619047619047619\n",
      "Accuracy/std using RFC for 15: 0.7857142857142857\n",
      "Accuracy/std using RFC for 16: 0.8333333333333334\n",
      "Accuracy/std using RFC for 17: 0.8095238095238095\n",
      "Accuracy/std using RFC for 18: 0.8095238095238095\n",
      "Accuracy/std using RFC for 19: 0.7380952380952381\n"
     ]
    }
   ],
   "source": [
    "# min_samples_split search\n",
    "result = 1\n",
    "best = -1\n",
    "for samples_split in np.arange(2, 20):\n",
    "    \n",
    "    rf = RandomForestClassifier(n_estimators=24, criterion='entropy', \n",
    "                            max_features=8, max_depth=8, \n",
    "                            min_samples_split=samples_split, min_samples_leaf=1,\n",
    "                            bootstrap=False, n_jobs=None, \n",
    "                            random_state=42, verbose=0)\n",
    "    rf_pipeline = Pipeline(steps=[('classifier', rf)])\n",
    "    clf = rf_pipeline.fit(X_train, y_train)\n",
    "    \n",
    "    accuracy = accuracy_score(y_true=y_test, y_pred=clf.predict(X_test))\n",
    "    if accuracy > best:\n",
    "        best = accuracy\n",
    "        result = samples_split\n",
    "    print(f'Accuracy/std using RFC for {samples_split}: {accuracy}')"
   ]
  },
  {
   "cell_type": "code",
   "execution_count": 36,
   "metadata": {},
   "outputs": [
    {
     "name": "stdout",
     "output_type": "stream",
     "text": [
      "The best accuracy 0.9047619047619048 with min_samples_split = 2\n"
     ]
    }
   ],
   "source": [
    "print(f'The best accuracy {best} with min_samples_split = {result}')"
   ]
  },
  {
   "cell_type": "code",
   "execution_count": 37,
   "metadata": {},
   "outputs": [
    {
     "name": "stdout",
     "output_type": "stream",
     "text": [
      "Accuracy/std using RFC for 1: 0.9047619047619048\n",
      "Accuracy/std using RFC for 2: 0.8333333333333334\n",
      "Accuracy/std using RFC for 3: 0.7619047619047619\n",
      "Accuracy/std using RFC for 4: 0.7857142857142857\n",
      "Accuracy/std using RFC for 5: 0.7380952380952381\n",
      "Accuracy/std using RFC for 6: 0.7142857142857143\n",
      "Accuracy/std using RFC for 7: 0.7380952380952381\n",
      "Accuracy/std using RFC for 8: 0.7857142857142857\n",
      "Accuracy/std using RFC for 9: 0.7619047619047619\n",
      "Accuracy/std using RFC for 10: 0.7619047619047619\n",
      "Accuracy/std using RFC for 11: 0.7380952380952381\n",
      "Accuracy/std using RFC for 12: 0.7619047619047619\n",
      "Accuracy/std using RFC for 13: 0.7619047619047619\n",
      "Accuracy/std using RFC for 14: 0.7619047619047619\n",
      "Accuracy/std using RFC for 15: 0.7857142857142857\n",
      "Accuracy/std using RFC for 16: 0.7619047619047619\n",
      "Accuracy/std using RFC for 17: 0.7619047619047619\n",
      "Accuracy/std using RFC for 18: 0.7380952380952381\n",
      "Accuracy/std using RFC for 19: 0.7857142857142857\n"
     ]
    }
   ],
   "source": [
    "# min_samples_leaf search\n",
    "result = 1\n",
    "best = -1\n",
    "for samples_leaf in np.arange(1, 20):\n",
    "    \n",
    "    rf = RandomForestClassifier(n_estimators=24, criterion='entropy', \n",
    "                            max_features=8, max_depth=8, \n",
    "                            min_samples_split=2, min_samples_leaf=samples_leaf,\n",
    "                            bootstrap=False, n_jobs=None, \n",
    "                            random_state=42, verbose=0)\n",
    "    rf_pipeline = Pipeline(steps=[('classifier', rf)])\n",
    "    clf = rf_pipeline.fit(X_train, y_train)\n",
    "    \n",
    "    accuracy = accuracy_score(y_true=y_test, y_pred=clf.predict(X_test))\n",
    "    if accuracy > best:\n",
    "        best = accuracy\n",
    "        result = samples_leaf\n",
    "    print(f'Accuracy/std using RFC for {samples_leaf}: {accuracy}')"
   ]
  },
  {
   "cell_type": "code",
   "execution_count": 38,
   "metadata": {},
   "outputs": [
    {
     "name": "stdout",
     "output_type": "stream",
     "text": [
      "The best accuracy 0.9047619047619048 with min_samples_leaf = 1\n"
     ]
    }
   ],
   "source": [
    "print(f'The best accuracy {best} with min_samples_leaf = {result}')"
   ]
  },
  {
   "cell_type": "code",
   "execution_count": 39,
   "metadata": {},
   "outputs": [
    {
     "name": "stdout",
     "output_type": "stream",
     "text": [
      "Accuracy/std using RFC for False: 0.9047619047619048\n",
      "Accuracy/std using RFC for True: 0.8095238095238095\n"
     ]
    }
   ],
   "source": [
    "# bootstrap search\n",
    "result = ''\n",
    "best = -1\n",
    "for bootstrap in[False, True]:\n",
    "    \n",
    "    rf = RandomForestClassifier(n_estimators=24, criterion='entropy', \n",
    "                            max_features=8, max_depth=8, \n",
    "                            min_samples_split=2, min_samples_leaf=1,\n",
    "                            bootstrap=bootstrap, n_jobs=None, \n",
    "                            random_state=42, verbose=0)\n",
    "    rf_pipeline = Pipeline(steps=[('classifier', rf)])\n",
    "    clf = rf_pipeline.fit(X_train, y_train)\n",
    "    \n",
    "    accuracy = accuracy_score(y_true=y_test, y_pred=clf.predict(X_test))\n",
    "    if accuracy > best:\n",
    "        best = accuracy\n",
    "        result = bootstrap\n",
    "    print(f'Accuracy/std using RFC for {bootstrap}: {accuracy}')"
   ]
  },
  {
   "cell_type": "code",
   "execution_count": 40,
   "metadata": {},
   "outputs": [
    {
     "name": "stdout",
     "output_type": "stream",
     "text": [
      "The best accuracy 0.9047619047619048 with bootstrap = False\n"
     ]
    }
   ],
   "source": [
    "print(f'The best accuracy {best} with bootstrap = {result}')"
   ]
  },
  {
   "cell_type": "code",
   "execution_count": 41,
   "metadata": {},
   "outputs": [
    {
     "name": "stdout",
     "output_type": "stream",
     "text": [
      "Accuracy/std using RFC for -1: 0.9047619047619048\n",
      "Accuracy/std using RFC for 1: 0.9047619047619048\n",
      "Accuracy/std using RFC for 2: 0.9047619047619048\n",
      "Accuracy/std using RFC for 3: 0.9047619047619048\n"
     ]
    }
   ],
   "source": [
    "# n_jobs search\n",
    "result = 0\n",
    "best = -1\n",
    "for n_jobs in [-1, 1, 2, 3]:\n",
    "    \n",
    "    rf = RandomForestClassifier(n_estimators=24, criterion='entropy', \n",
    "                            max_features=8, max_depth=8, \n",
    "                            min_samples_split=2, min_samples_leaf=1,\n",
    "                            bootstrap=False, n_jobs=n_jobs, \n",
    "                            random_state=42, verbose=0)\n",
    "    rf_pipeline = Pipeline(steps=[('classifier', rf)])\n",
    "    clf = rf_pipeline.fit(X_train, y_train)\n",
    "    \n",
    "    accuracy = accuracy_score(y_true=y_test, y_pred=clf.predict(X_test))\n",
    "    if accuracy > best:\n",
    "        best = accuracy\n",
    "        result = n_jobs\n",
    "    print(f'Accuracy/std using RFC for {n_jobs}: {accuracy}')"
   ]
  },
  {
   "cell_type": "code",
   "execution_count": 42,
   "metadata": {},
   "outputs": [
    {
     "name": "stdout",
     "output_type": "stream",
     "text": [
      "Accuracy/std using RFC for n_jobs = 3: 0.9047619047619048\n"
     ]
    }
   ],
   "source": [
    "print(f'Accuracy/std using RFC for n_jobs = {n_jobs}: {accuracy}')"
   ]
  },
  {
   "cell_type": "markdown",
   "metadata": {},
   "source": [
    "### Looks like my 'perfect' model has following parameters:"
   ]
  },
  {
   "cell_type": "code",
   "execution_count": 43,
   "metadata": {},
   "outputs": [
    {
     "name": "stdout",
     "output_type": "stream",
     "text": [
      "Train Accuracy/std using RFC: 0.9047619047619048\n"
     ]
    }
   ],
   "source": [
    "rf = RandomForestClassifier(n_estimators=24, criterion='entropy', \n",
    "                            max_features=8, max_depth=8, \n",
    "                            min_samples_split=2, min_samples_leaf=1,\n",
    "                            bootstrap=False, n_jobs=-1, \n",
    "                            random_state=42, verbose=0)\n",
    "\n",
    "rf_pipeline = Pipeline(steps=[('classifier', rf)])\n",
    "clf = rf_pipeline.fit(X_train, y_train)\n",
    "\n",
    "accuracy = accuracy_score(y_true=y_test, y_pred=clf.predict(X_test))\n",
    "print(f'Train Accuracy/std using RFC: {accuracy}')"
   ]
  },
  {
   "cell_type": "code",
   "execution_count": 44,
   "metadata": {},
   "outputs": [],
   "source": [
    "clf = rf_pipeline.fit(X_train, y_train)"
   ]
  },
  {
   "cell_type": "code",
   "execution_count": 45,
   "metadata": {},
   "outputs": [
    {
     "name": "stdout",
     "output_type": "stream",
     "text": [
      " Test accuracy:  0.9047619047619048\n"
     ]
    },
    {
     "data": {
      "image/png": "[encoded data removed]",
      "text/plain": [
       "<Figure size 432x288 with 2 Axes>"
      ]
     },
     "metadata": {
      "needs_background": "light"
     },
     "output_type": "display_data"
    }
   ],
   "source": [
    "print(f' Test accuracy: ', accuracy_score(y_true=y_test, y_pred=clf.predict(X_test)))\n",
    "disp = plot_confusion_matrix(clf, X_test, y_test, cmap=plt.cm.Blues, normalize=None)"
   ]
  },
  {
   "cell_type": "markdown",
   "metadata": {},
   "source": [
    "### Grid Search and Random Search"
   ]
  },
  {
   "cell_type": "markdown",
   "metadata": {},
   "source": [
    "If you have enough computational power for model training in a reasonable amount of time more sophisticated approach of hyperparameter tuning would be either Grid Search or Random Search.<br>\n",
    "\n",
    "In a nutshell Grid Search allows you to pass through all different combinations of given model parameters and their values and choose the best combination. Whereas Random Search would randomly choose values for given model parameters and evaluate them on test data untill it reaches the specified number of iterations.<br>\n",
    "\n",
    "More information here [Gentle introduction to Grid and Random search](https://medium.com/@senapati.dipak97/grid-search-vs-random-search-d34c92946318) and here [Detailed Explanation with code examples](https://machinelearningmastery.com/hyperparameter-optimization-with-random-search-and-grid-search/)."
   ]
  },
  {
   "attachments": {
    "grid_random_search.png": {
     "image/png": "[encoded data removed]"
    }
   },
   "cell_type": "markdown",
   "metadata": {},
   "source": [
    "![grid_random_search.png](attachment:grid_random_search.png)"
   ]
  },
  {
   "cell_type": "markdown",
   "metadata": {},
   "source": [
    "**Task 3 (1 point)**. Compare your previous results with [GridSearch](https://scikit-learn.org/stable/modules/generated/sklearn.model_selection.GridSearchCV.html) hyperparameter tuning. You may tune best hyperparameters for forest with several trees and then increase it while measure the quality on validation dataset."
   ]
  },
  {
   "cell_type": "code",
   "execution_count": 47,
   "metadata": {},
   "outputs": [
    {
     "name": "stdout",
     "output_type": "stream",
     "text": [
      "Fitting 5 folds for each of 3240 candidates, totalling 16200 fits\n"
     ]
    },
    {
     "name": "stderr",
     "output_type": "stream",
     "text": [
      "C:\\Users\\bochk\\AppData\\Roaming\\Python\\Python38\\site-packages\\sklearn\\model_selection\\_search.py:918: UserWarning: One or more of the test scores are non-finite: [       nan        nan        nan ... 0.83778966 0.81354724 0.81336898]\n",
      "  warnings.warn(\n"
     ]
    },
    {
     "data": {
      "text/plain": [
       "GridSearchCV(cv=5, estimator=RandomForestClassifier(random_state=42), n_jobs=-1,\n",
       "             param_grid={'criterion': ['gini', 'entropy'],\n",
       "                         'max_depth': [10, 30, 50, 100, 150],\n",
       "                         'max_features': [5, 7, 15, 25, 35, 55],\n",
       "                         'min_samples_leaf': [2, 3, 4],\n",
       "                         'min_samples_split': [1, 2, 3],\n",
       "                         'n_estimators': [5, 10, 20, 30, 50, 100]},\n",
       "             verbose=1)"
      ]
     },
     "execution_count": 47,
     "metadata": {},
     "output_type": "execute_result"
    }
   ],
   "source": [
    "# Create the parameter grid based on the results of random search \n",
    "#X_train, X_test = X_full\n",
    "#y_train, y_test = y_full\n",
    "\n",
    "param_grid = {\n",
    "    'n_estimators': [5, 10, 20, 30, 50, 100],\n",
    "    'criterion': ['gini', 'entropy'],\n",
    "    'max_features': [ 5, 7, 15, 25, 35, 55],\n",
    "    'max_depth': [10, 30, 50, 100, 150],\n",
    "    'min_samples_leaf': [2, 3, 4],\n",
    "    'min_samples_split': [1, 2, 3]\n",
    "}\n",
    "\n",
    "# Create a based model\n",
    "rf = RandomForestClassifier(random_state=42)\n",
    "# Instantiate the grid search model\n",
    "grid_search = GridSearchCV(estimator = rf, param_grid = param_grid, \n",
    "                          cv = 5, n_jobs = -1, verbose = 1)\n",
    "grid_search.fit(X_full, y_full)"
   ]
  },
  {
   "cell_type": "code",
   "execution_count": 48,
   "metadata": {},
   "outputs": [
    {
     "data": {
      "text/plain": [
       "{'criterion': 'entropy',\n",
       " 'max_depth': 10,\n",
       " 'max_features': 7,\n",
       " 'min_samples_leaf': 3,\n",
       " 'min_samples_split': 2,\n",
       " 'n_estimators': 50}"
      ]
     },
     "execution_count": 48,
     "metadata": {},
     "output_type": "execute_result"
    }
   ],
   "source": [
    "grid_search.best_params_"
   ]
  },
  {
   "cell_type": "code",
   "execution_count": 49,
   "metadata": {},
   "outputs": [
    {
     "name": "stdout",
     "output_type": "stream",
     "text": [
      "Train Accuracy/std using RFC is: 0.8497326203208557/0.049255952683077864\n"
     ]
    }
   ],
   "source": [
    "rf = RandomForestClassifier(n_estimators=50, criterion='entropy', \n",
    "                            max_features=7, max_depth=10, \n",
    "                            min_samples_split=2, min_samples_leaf=3,\n",
    "                            bootstrap=False, n_jobs=-1, \n",
    "                            random_state=42, verbose=0)\n",
    "\n",
    "rf_pipeline = Pipeline(steps=[('classifier', rf)])\n",
    "clf = cross_val_score(rf_pipeline, X_full, y_full, scoring='accuracy', cv=5)\n",
    "accuracy = clf.mean()\n",
    "std = clf.std()\n",
    "print(f'Train Accuracy/std using RFC is: {accuracy}/{std}')"
   ]
  },
  {
   "cell_type": "code",
   "execution_count": 50,
   "metadata": {},
   "outputs": [],
   "source": [
    "clf = rf_pipeline.fit(X_full, y_full)"
   ]
  },
  {
   "cell_type": "code",
   "execution_count": 51,
   "metadata": {},
   "outputs": [
    {
     "data": {
      "text/plain": [
       "0.7388888888888889"
      ]
     },
     "execution_count": 51,
     "metadata": {},
     "output_type": "execute_result"
    }
   ],
   "source": [
    "cv_score = cross_val_score(rf_pipeline, X_val, y_val, scoring='accuracy', cv=5).mean()\n",
    "cv_score"
   ]
  },
  {
   "cell_type": "code",
   "execution_count": 52,
   "metadata": {},
   "outputs": [
    {
     "data": {
      "image/png": "[encoded data removed]",
      "text/plain": [
       "<Figure size 432x288 with 2 Axes>"
      ]
     },
     "metadata": {
      "needs_background": "light"
     },
     "output_type": "display_data"
    }
   ],
   "source": [
    "disp = plot_confusion_matrix(clf, X_val, y_val, cmap=plt.cm.Blues, normalize=None)"
   ]
  },
  {
   "cell_type": "markdown",
   "metadata": {},
   "source": [
    "Train accuracy has dropped slightly, but validation score looks great - 0.74. In general I enjoied work with GridSearch more, because it didn't need that much manipulations as greedy search did. "
   ]
  },
  {
   "cell_type": "markdown",
   "metadata": {},
   "source": [
    "**Task 4 (1 point)**. And finally tune forest hyperparameters with [RandomSearch](https://scikit-learn.org/stable/modules/generated/sklearn.model_selection.RandomizedSearchCV.html). Compare results to previous attempts."
   ]
  },
  {
   "cell_type": "code",
   "execution_count": 55,
   "metadata": {},
   "outputs": [
    {
     "name": "stdout",
     "output_type": "stream",
     "text": [
      "Fitting 5 folds for each of 10 candidates, totalling 50 fits\n"
     ]
    },
    {
     "name": "stderr",
     "output_type": "stream",
     "text": [
      "C:\\Users\\bochk\\AppData\\Roaming\\Python\\Python38\\site-packages\\sklearn\\model_selection\\_search.py:918: UserWarning: One or more of the test scores are non-finite: [0.78324421 0.80124777 0.80142602 0.8311943  0.78930481 0.78894831\n",
      "        nan 0.81354724 0.80213904 0.8315508 ]\n",
      "  warnings.warn(\n"
     ]
    },
    {
     "data": {
      "text/plain": [
       "RandomizedSearchCV(cv=5, estimator=RandomForestClassifier(random_state=42),\n",
       "                   n_jobs=-1,\n",
       "                   param_distributions={'criterion': ['gini', 'entropy'],\n",
       "                                        'max_depth': [10, 30, 50, 100, 150],\n",
       "                                        'max_features': [5, 7, 15, 25, 35, 55],\n",
       "                                        'min_samples_leaf': [2, 3, 4],\n",
       "                                        'min_samples_split': [1, 2, 3],\n",
       "                                        'n_estimators': [5, 10, 20, 30, 50,\n",
       "                                                         100]},\n",
       "                   random_state=42, verbose=1)"
      ]
     },
     "execution_count": 55,
     "metadata": {},
     "output_type": "execute_result"
    }
   ],
   "source": [
    "# Create the parameter grid based on the results of random search \n",
    "#X_train, X_test = X_full\n",
    "#y_train, y_test = y_full\n",
    "\n",
    "param_distributions = {\n",
    "    'n_estimators': [5, 10, 20, 30, 50, 100],\n",
    "    'criterion': ['gini', 'entropy'],\n",
    "    'max_features': [ 5, 7, 15, 25, 35, 55],\n",
    "    'max_depth': [10, 30, 50, 100, 150],\n",
    "    'min_samples_leaf': [2, 3, 4],\n",
    "    'min_samples_split': [1, 2, 3]\n",
    "}\n",
    "\n",
    "# Create a based model\n",
    "rf = RandomForestClassifier(random_state=42)\n",
    "# Instantiate the grid search model\n",
    "rand_search = RandomizedSearchCV(estimator = rf, param_distributions = param_distributions, \n",
    "                          cv = 5, n_jobs = -1, verbose = 1, random_state=42)\n",
    "rand_search.fit(X_full, y_full)"
   ]
  },
  {
   "cell_type": "code",
   "execution_count": 56,
   "metadata": {},
   "outputs": [
    {
     "data": {
      "text/plain": [
       "{'n_estimators': 20,\n",
       " 'min_samples_split': 3,\n",
       " 'min_samples_leaf': 4,\n",
       " 'max_features': 35,\n",
       " 'max_depth': 100,\n",
       " 'criterion': 'gini'}"
      ]
     },
     "execution_count": 56,
     "metadata": {},
     "output_type": "execute_result"
    }
   ],
   "source": [
    "rand_search.best_params_"
   ]
  },
  {
   "cell_type": "code",
   "execution_count": 57,
   "metadata": {},
   "outputs": [
    {
     "name": "stdout",
     "output_type": "stream",
     "text": [
      "Accuracy/std using RFC is: 0.7830659536541891/0.02314271995310872\n"
     ]
    }
   ],
   "source": [
    "rf = RandomForestClassifier(n_estimators=20, criterion='gini', \n",
    "                            max_features=35, max_depth=100, \n",
    "                            min_samples_split=3, min_samples_leaf=4,\n",
    "                            bootstrap=False, n_jobs=-1, \n",
    "                            random_state=42, verbose=0)\n",
    "\n",
    "rf_pipeline = Pipeline(steps=[('classifier', rf)])\n",
    "clf = cross_val_score(rf_pipeline, X_full, y_full, scoring='accuracy', cv=5)\n",
    "accuracy = clf.mean()\n",
    "std = clf.std()\n",
    "print(f'Accuracy/std using RFC is: {accuracy}/{std}')"
   ]
  },
  {
   "cell_type": "code",
   "execution_count": 58,
   "metadata": {},
   "outputs": [],
   "source": [
    "clf = rf_pipeline.fit(X_full, y_full)"
   ]
  },
  {
   "cell_type": "code",
   "execution_count": 59,
   "metadata": {},
   "outputs": [
    {
     "data": {
      "text/plain": [
       "0.6888888888888889"
      ]
     },
     "execution_count": 59,
     "metadata": {},
     "output_type": "execute_result"
    }
   ],
   "source": [
    "cv_score = cross_val_score(rf_pipeline, X_val, y_val, scoring='accuracy', cv=5).mean()\n",
    "cv_score"
   ]
  },
  {
   "cell_type": "code",
   "execution_count": 60,
   "metadata": {},
   "outputs": [
    {
     "data": {
      "image/png": "[encoded data removed]",
      "text/plain": [
       "<Figure size 432x288 with 2 Axes>"
      ]
     },
     "metadata": {
      "needs_background": "light"
     },
     "output_type": "display_data"
    }
   ],
   "source": [
    "disp = plot_confusion_matrix(clf, X_val, y_val, cmap=plt.cm.Blues, normalize=None)"
   ]
  },
  {
   "cell_type": "markdown",
   "metadata": {},
   "source": [
    "This model has shown the lowest accuracy score among previous 2, it's 0.78 on train and 0.68 on validation sample. But this search was extremely fast compare to GridSearch and greedy search, of course."
   ]
  },
  {
   "cell_type": "markdown",
   "metadata": {},
   "source": [
    "**Task 5 (0.5 points)**. Tell us about your experience in hyperparameter tuning with the approaches above. What do you think would be the best option for this task and why?"
   ]
  },
  {
   "cell_type": "markdown",
   "metadata": {},
   "source": [
    "In this task i've tried 3 approaches: brut force greedy search, GridSearchCV and RandomizedSearchCV. \n",
    "\n",
    "Brut force greedy search gave the highest train accuracy, but this search itself was very annoying - I had to repeat fits and there always was a high chance for human mistake. Also it took much time and code doesn't look clean. Anyway, manually changed parameters range is effective sometimes, I think.\n",
    "\n",
    "GridSearchCV has the medium train accuracy and pretty high validation score, I find this approach the most stable among all 3. It takes awile to process all fits, but it worth to wait. I think this method is best for those, who have powerful computer and need the most precise model.\n",
    "\n",
    "RandomizedSearchCV is a very fast way to get a model which somehow works - this model has the lowest accuracy/validation score among 3. It's all about luck - it can give a powerful parameters, but you can't rely on random search if you need the best model possible.\n",
    "\n",
    "In my opinion, for this dataset GridSearchCV is the best way to pick model parameters, because our dataset is small and process doesn't need that much computer sources."
   ]
  },
  {
   "cell_type": "markdown",
   "metadata": {},
   "source": [
    "### Desicion tree explained"
   ]
  },
  {
   "cell_type": "markdown",
   "metadata": {},
   "source": [
    "Remember the [Titanic](https://www.kaggle.com/c/titanic) competition from last week? Wouldn't be a good idea to visualize one of possible desicion-making processes of _survived_ / _dead_ labeling?"
   ]
  },
  {
   "cell_type": "markdown",
   "metadata": {},
   "source": [
    "**Task 6 (1 point)**. Load titanic dataset, split it into train/test parts, apply simple hyperparameter tuning of [DesicionTreeClassifier](https://scikit-learn.org/stable/modules/generated/sklearn.tree.DecisionTreeClassifier.html) (use one of the approaches above) in order to have **test accuracy more than 0.65**. <br>\n",
    "\n",
    "Draw the best tree decision making process. You may use [sklearn.tree.prot_tree](https://scikit-learn.org/stable/modules/generated/sklearn.tree.plot_tree.html).<br>"
   ]
  },
  {
   "cell_type": "code",
   "execution_count": 61,
   "metadata": {},
   "outputs": [],
   "source": [
    "from sklearn.tree import DecisionTreeClassifier\n",
    "import os"
   ]
  },
  {
   "cell_type": "code",
   "execution_count": 71,
   "metadata": {},
   "outputs": [],
   "source": [
    "PATH = \"./data/\"\n",
    "tit_data = pd.read_csv(os.path.join(PATH, 'titanic', 'train.csv')).set_index('PassengerId')"
   ]
  },
  {
   "cell_type": "code",
   "execution_count": 72,
   "metadata": {},
   "outputs": [],
   "source": [
    "y_t = tit_data['Survived']\n",
    "X_t = tit_data.drop(columns=['Survived', 'Name', 'Ticket', 'Cabin'])\n",
    "X_t['Age'].fillna(value=28, inplace=True)\n",
    "X_t['Embarked'].fillna(value='S', inplace=True)"
   ]
  },
  {
   "cell_type": "code",
   "execution_count": 73,
   "metadata": {},
   "outputs": [],
   "source": [
    "X_tit = pd.get_dummies(X_t, columns=[\"Embarked\", \"Sex\"])"
   ]
  },
  {
   "cell_type": "code",
   "execution_count": 74,
   "metadata": {},
   "outputs": [],
   "source": [
    "X_t_train, X_t_test, y_t_train, y_t_test = train_test_split(X_tit, y_t, test_size=0.3, random_state=42)"
   ]
  },
  {
   "cell_type": "code",
   "execution_count": 75,
   "metadata": {},
   "outputs": [
    {
     "name": "stdout",
     "output_type": "stream",
     "text": [
      "Fitting 5 folds for each of 10 candidates, totalling 50 fits\n"
     ]
    },
    {
     "name": "stderr",
     "output_type": "stream",
     "text": [
      "C:\\Users\\bochk\\AppData\\Roaming\\Python\\Python38\\site-packages\\sklearn\\model_selection\\_search.py:918: UserWarning: One or more of the test scores are non-finite: [       nan        nan 0.78011613        nan 0.78655484 0.78495484\n",
      " 0.78974194 0.77850323 0.78658065 0.78011613]\n",
      "  warnings.warn(\n"
     ]
    },
    {
     "data": {
      "text/plain": [
       "RandomizedSearchCV(cv=5, estimator=DecisionTreeClassifier(random_state=42),\n",
       "                   n_jobs=-1,\n",
       "                   param_distributions={'criterion': ['gini', 'entropy'],\n",
       "                                        'max_depth': [2, 5, 10, 50, 100, 200],\n",
       "                                        'max_features': ['auto', 'sqrt',\n",
       "                                                         'log2'],\n",
       "                                        'max_leaf_nodes': [3, 5, 7, 15],\n",
       "                                        'min_samples_leaf': [1, 3, 5, 7],\n",
       "                                        'min_samples_split': [1, 2, 3, 4, 5],\n",
       "                                        'splitter': ['best', 'random']},\n",
       "                   random_state=42, verbose=1)"
      ]
     },
     "execution_count": 75,
     "metadata": {},
     "output_type": "execute_result"
    }
   ],
   "source": [
    "param_distributions = {\n",
    "    'criterion': ['gini', 'entropy'],\n",
    "    'splitter': ['best', 'random'],\n",
    "    'max_depth': [2, 5, 10, 50, 100, 200],\n",
    "    'min_samples_split': [1, 2, 3, 4, 5],\n",
    "    'min_samples_leaf': [1, 3, 5, 7],\n",
    "    'max_features': ['auto', 'sqrt', 'log2'],\n",
    "    'max_leaf_nodes': [3, 5, 7 , 15]\n",
    "}\n",
    "\n",
    "# Create a based model\n",
    "dt = DecisionTreeClassifier(random_state=42)\n",
    "# Instantiate the grid search model\n",
    "rand_search = RandomizedSearchCV(estimator = dt, param_distributions = param_distributions, \n",
    "                          cv = 5, n_jobs = -1, verbose = 1, random_state=42)\n",
    "rand_search.fit(X_t_train, y_t_train)"
   ]
  },
  {
   "cell_type": "code",
   "execution_count": 76,
   "metadata": {},
   "outputs": [
    {
     "data": {
      "text/plain": [
       "{'splitter': 'best',\n",
       " 'min_samples_split': 3,\n",
       " 'min_samples_leaf': 3,\n",
       " 'max_leaf_nodes': 15,\n",
       " 'max_features': 'log2',\n",
       " 'max_depth': 200,\n",
       " 'criterion': 'entropy'}"
      ]
     },
     "execution_count": 76,
     "metadata": {},
     "output_type": "execute_result"
    }
   ],
   "source": [
    "rand_search.best_params_"
   ]
  },
  {
   "cell_type": "code",
   "execution_count": 77,
   "metadata": {},
   "outputs": [
    {
     "name": "stdout",
     "output_type": "stream",
     "text": [
      "Accuracy/std using RFC is: 0.789741935483871/0.04453217102256919\n"
     ]
    }
   ],
   "source": [
    "dt = DecisionTreeClassifier(splitter='best', min_samples_split=3, min_samples_leaf=3,\n",
    "                            max_leaf_nodes=15, max_features='log2', max_depth=200,\n",
    "                            criterion='entropy', random_state=42)\n",
    "\n",
    "rf_pipeline = Pipeline(steps=[('classifier', dt)])\n",
    "clf = cross_val_score(rf_pipeline, X_t_train, y_t_train, scoring='accuracy', cv=5)\n",
    "accuracy = clf.mean()\n",
    "std = clf.std()\n",
    "print(f'Accuracy/std using RFC is: {accuracy}/{std}')"
   ]
  },
  {
   "cell_type": "code",
   "execution_count": 78,
   "metadata": {},
   "outputs": [
    {
     "name": "stdout",
     "output_type": "stream",
     "text": [
      "Titanic score is: 0.8062893081761008.\n"
     ]
    }
   ],
   "source": [
    "cv_score = cross_val_score(rf_pipeline, X_t_test, y_t_test, scoring='accuracy', cv=5).mean()\n",
    "print(f'Titanic score is: {cv_score}.')"
   ]
  },
  {
   "cell_type": "markdown",
   "metadata": {},
   "source": [
    "Accuracy score =0.80"
   ]
  },
  {
   "cell_type": "markdown",
   "metadata": {},
   "source": [
    "### Decision tree"
   ]
  },
  {
   "cell_type": "code",
   "execution_count": 79,
   "metadata": {},
   "outputs": [],
   "source": [
    "from sklearn import tree"
   ]
  },
  {
   "cell_type": "code",
   "execution_count": 80,
   "metadata": {},
   "outputs": [],
   "source": [
    "clf = tree.DecisionTreeClassifier(splitter='random', min_samples_split=5, min_samples_leaf=5,\n",
    "                                  max_leaf_nodes=15, max_features='auto', max_depth=3,\n",
    "                                  criterion='entropy', random_state=42)\n",
    "clf = clf.fit(X_tit, y_t)"
   ]
  },
  {
   "cell_type": "code",
   "execution_count": 83,
   "metadata": {
    "scrolled": true
   },
   "outputs": [
    {
     "data": {
      "image/png": "[encoded data removed]",
      "text/plain": [
       "<Figure size 1152x360 with 1 Axes>"
      ]
     },
     "metadata": {
      "needs_background": "light"
     },
     "output_type": "display_data"
    }
   ],
   "source": [
    "plt.figure(figsize=(16,5))\n",
    "tree.plot_tree(clf)\n",
    "plt.show()"
   ]
  },
  {
   "cell_type": "markdown",
   "metadata": {},
   "source": [
    "Is it easy to interpret its results? Are you able to explain to a random person why would he survive / die on the titanic?"
   ]
  },
  {
   "cell_type": "markdown",
   "metadata": {},
   "source": [
    "It's easy to say, that the 1st node is about sex = 891 total passengers later are divided into 2 groups: 577 males and 314 females. To understand the further nodes I need more time than I have right now, unfortunately) But in general, in trees with small depth it's possible to interpret such plots."
   ]
  },
  {
   "cell_type": "markdown",
   "metadata": {},
   "source": [
    "# Homework part 2. RandomForestRegressor"
   ]
  },
  {
   "cell_type": "markdown",
   "metadata": {},
   "source": [
    "**Task 7 (2 points)**. Write your own *DecisionTreeRegressor* class with _MSE_ split criterion and settable parameter *max_depth*. Demonstrate its consistency on the proposed artificial data (or some other) by comparing MSE of train predictions with [sklearn.tree.DecisionTreeRegressor](https://scikit-learn.org/stable/modules/generated/sklearn.tree.DecisionTreeRegressor.html). <br>\n",
    "\n",
    "Provide examples for different _max_depth_ parameter.\n",
    "\n",
    "Of course you may re-use code for *DecisionTreeClassifier*. You need to figure out what needs to be changed in it for Classification -> Regression transformation.<br>\n",
    "\n",
    "**! You are allowed to use only NumPy library** in this assigment."
   ]
  },
  {
   "cell_type": "code",
   "execution_count": null,
   "metadata": {},
   "outputs": [],
   "source": [
    "# Your code here"
   ]
  },
  {
   "cell_type": "markdown",
   "metadata": {},
   "source": [
    "**Task 8 (2 points)**. Write your own _RandomForestRegressor_ class with MSE split criterion and settable parameter _max_depth_.  Demonstrate its consistency on the proposed artificial data (or some other) by comparing MSE of train predictions with [sklearn.ensemble.RandomForestRegressor](https://scikit-learn.org/stable/modules/generated/sklearn.ensemble.RandomForestRegressor.html).<br>\n",
    "\n",
    "Provide examples for different max_depth parameter.<br>\n",
    "\n",
    "**! You are allowed to use only NumPy library** in this assigment."
   ]
  },
  {
   "cell_type": "code",
   "execution_count": null,
   "metadata": {},
   "outputs": [],
   "source": [
    "# Your code here"
   ]
  },
  {
   "cell_type": "markdown",
   "metadata": {},
   "source": [
    "# Homework part 3 (bonus). Speeding up forest training process"
   ]
  },
  {
   "cell_type": "markdown",
   "metadata": {},
   "source": [
    "**Task 9 (3 points)** Devise a way to speed up training against the default version of our custom _RandomForestClassifier_ or your own _RandomForestRegressor_. You may want use [`joblib`](https://joblib.readthedocs.io/en/latest/) for parallelizing trees training. Provide graphs of time dependences on the number of trees in your _fast_ version with different number of cores / threads used against default one."
   ]
  },
  {
   "cell_type": "code",
   "execution_count": null,
   "metadata": {},
   "outputs": [],
   "source": [
    "# Your code here"
   ]
  }
 ],
 "metadata": {
  "kernelspec": {
   "display_name": "Python 3",
   "language": "python",
   "name": "python3"
  },
  "language_info": {
   "codemirror_mode": {
    "name": "ipython",
    "version": 3
   },
   "file_extension": ".py",
   "mimetype": "text/x-python",
   "name": "python",
   "nbconvert_exporter": "python",
   "pygments_lexer": "ipython3",
   "version": "3.8.3"
  },
  "toc": {
   "base_numbering": 1,
   "nav_menu": {},
   "number_sections": true,
   "sideBar": true,
   "skip_h1_title": false,
   "title_cell": "Table of Contents",
   "title_sidebar": "Contents",
   "toc_cell": false,
   "toc_position": {
    "height": "calc(100% - 180px)",
    "left": "10px",
    "top": "150px",
    "width": "235px"
   },
   "toc_section_display": true,
   "toc_window_display": true
  }
 },
 "nbformat": 4,
 "nbformat_minor": 4
}
